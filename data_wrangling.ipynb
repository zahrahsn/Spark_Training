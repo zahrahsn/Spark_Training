{
 "cells": [
  {
   "cell_type": "code",
   "execution_count": 52,
   "id": "initial_id",
   "metadata": {
    "collapsed": true,
    "ExecuteTime": {
     "end_time": "2024-05-24T09:04:37.269283475Z",
     "start_time": "2024-05-24T09:04:37.266534419Z"
    }
   },
   "outputs": [],
   "source": [
    "from pyspark.sql import SparkSession\n",
    "from pyspark.sql.functions import udf\n",
    "from pyspark.sql.types import  StringType\n",
    "from pyspark.sql.types import  LongType\n",
    "from pyspark.sql.types import IntegerType\n",
    "from pyspark.sql.types import BooleanType\n",
    "from pyspark.sql.functions import desc\n",
    "from pyspark.sql.functions import asc\n",
    "from pyspark.sql.functions import sum as Fsum\n",
    "from pyspark.sql import Window\n",
    "import datetime\n",
    "import pandas as pd\n",
    "import numpy as np\n",
    "%matplotlib inline\n",
    "import matplotlib.pyplot as plt"
   ]
  },
  {
   "cell_type": "code",
   "execution_count": 2,
   "outputs": [
    {
     "name": "stderr",
     "output_type": "stream",
     "text": [
      "24/05/24 10:23:17 WARN Utils: Your hostname, zahra-laptop resolves to a loopback address: 127.0.1.1; using 192.168.178.28 instead (on interface wlo1)\n",
      "24/05/24 10:23:17 WARN Utils: Set SPARK_LOCAL_IP if you need to bind to another address\n",
      "Setting default log level to \"WARN\".\n",
      "To adjust logging level use sc.setLogLevel(newLevel). For SparkR, use setLogLevel(newLevel).\n",
      "24/05/24 10:23:17 WARN NativeCodeLoader: Unable to load native-hadoop library for your platform... using builtin-java classes where applicable\n"
     ]
    }
   ],
   "source": [
    "spark = SparkSession \\\n",
    "    .builder \\\n",
    "    .appName(\"Wrangling Data\") \\\n",
    "    .getOrCreate()"
   ],
   "metadata": {
    "collapsed": false,
    "ExecuteTime": {
     "end_time": "2024-05-24T08:23:18.660254303Z",
     "start_time": "2024-05-24T08:23:16.281237022Z"
    }
   },
   "id": "7c8abf97ccc09fda"
  },
  {
   "cell_type": "code",
   "execution_count": 3,
   "outputs": [],
   "source": [
    "path='./data/sparkify_log_small.json'\n",
    "user_log =spark.read.json(path)"
   ],
   "metadata": {
    "collapsed": false,
    "ExecuteTime": {
     "end_time": "2024-05-24T08:23:21.214534711Z",
     "start_time": "2024-05-24T08:23:18.657448036Z"
    }
   },
   "id": "d96ef13c7303099f"
  },
  {
   "cell_type": "code",
   "execution_count": 4,
   "outputs": [
    {
     "name": "stdout",
     "output_type": "stream",
     "text": [
      "+-------+-----------------+\n",
      "|summary|           artist|\n",
      "+-------+-----------------+\n",
      "|  count|             8347|\n",
      "|   mean|            461.0|\n",
      "| stddev|            300.0|\n",
      "|    min|              !!!|\n",
      "|    max|ÃÂlafur Arnalds|\n",
      "+-------+-----------------+\n"
     ]
    }
   ],
   "source": [
    "user_log.describe('artist').show()"
   ],
   "metadata": {
    "collapsed": false,
    "ExecuteTime": {
     "end_time": "2024-05-24T08:23:22.141455679Z",
     "start_time": "2024-05-24T08:23:21.216201823Z"
    }
   },
   "id": "c67a83d2c0c29a72"
  },
  {
   "cell_type": "code",
   "execution_count": 5,
   "outputs": [
    {
     "data": {
      "text/plain": "[Row(artist='Showaddywaddy', auth='Logged In', firstName='Kenneth', gender='M', itemInSession=112, lastName='Matthews', length=232.93342, level='paid', location='Charlotte-Concord-Gastonia, NC-SC', method='PUT', page='NextSong', registration=1509380319284, sessionId=5132, song='Christmas Tears Will Fall', status=200, ts=1513720872284, userAgent='\"Mozilla/5.0 (Windows NT 6.1) AppleWebKit/537.36 (KHTML, like Gecko) Chrome/36.0.1985.125 Safari/537.36\"', userId='1046'),\n Row(artist='Lily Allen', auth='Logged In', firstName='Elizabeth', gender='F', itemInSession=7, lastName='Chase', length=195.23873, level='free', location='Shreveport-Bossier City, LA', method='PUT', page='NextSong', registration=1512718541284, sessionId=5027, song='Cheryl Tweedy', status=200, ts=1513720878284, userAgent='\"Mozilla/5.0 (Windows NT 6.1) AppleWebKit/537.36 (KHTML, like Gecko) Chrome/36.0.1985.143 Safari/537.36\"', userId='1000'),\n Row(artist='Cobra Starship Featuring Leighton Meester', auth='Logged In', firstName='Vera', gender='F', itemInSession=6, lastName='Blackwell', length=196.20526, level='paid', location='Racine, WI', method='PUT', page='NextSong', registration=1499855749284, sessionId=5516, song='Good Girls Go Bad (Feat.Leighton Meester) (Album Version)', status=200, ts=1513720881284, userAgent='\"Mozilla/5.0 (Macintosh; Intel Mac OS X 10_9_4) AppleWebKit/537.78.2 (KHTML, like Gecko) Version/7.0.6 Safari/537.78.2\"', userId='2219')]"
     },
     "execution_count": 5,
     "metadata": {},
     "output_type": "execute_result"
    }
   ],
   "source": [
    "user_log.take(3)"
   ],
   "metadata": {
    "collapsed": false,
    "ExecuteTime": {
     "end_time": "2024-05-24T08:23:22.343709033Z",
     "start_time": "2024-05-24T08:23:22.143151775Z"
    }
   },
   "id": "123f85afb6efe3ff"
  },
  {
   "cell_type": "code",
   "execution_count": 6,
   "outputs": [
    {
     "name": "stdout",
     "output_type": "stream",
     "text": [
      "+--------------------+---------+---------+------+-------------+---------+---------+-----+--------------------+------+--------+-------------+---------+--------------------+------+-------------+--------------------+------+\n",
      "|              artist|     auth|firstName|gender|itemInSession| lastName|   length|level|            location|method|    page| registration|sessionId|                song|status|           ts|           userAgent|userId|\n",
      "+--------------------+---------+---------+------+-------------+---------+---------+-----+--------------------+------+--------+-------------+---------+--------------------+------+-------------+--------------------+------+\n",
      "|       Showaddywaddy|Logged In|  Kenneth|     M|          112| Matthews|232.93342| paid|Charlotte-Concord...|   PUT|NextSong|1509380319284|     5132|Christmas Tears W...|   200|1513720872284|\"Mozilla/5.0 (Win...|  1046|\n",
      "|          Lily Allen|Logged In|Elizabeth|     F|            7|    Chase|195.23873| free|Shreveport-Bossie...|   PUT|NextSong|1512718541284|     5027|       Cheryl Tweedy|   200|1513720878284|\"Mozilla/5.0 (Win...|  1000|\n",
      "|Cobra Starship Fe...|Logged In|     Vera|     F|            6|Blackwell|196.20526| paid|          Racine, WI|   PUT|NextSong|1499855749284|     5516|Good Girls Go Bad...|   200|1513720881284|\"Mozilla/5.0 (Mac...|  2219|\n",
      "|          Alex Smoke|Logged In|   Sophee|     F|            8|   Barker|405.99465| paid|San Luis Obispo-P...|   PUT|NextSong|1513009647284|     2372| Don't See The Point|   200|1513720905284|\"Mozilla/5.0 (Win...|  2373|\n",
      "|                NULL|Logged In|   Jordyn|     F|            0|    Jones|     NULL| free|        Syracuse, NY|   GET|    Home|1513648531284|     1746|                NULL|   200|1513720913284|\"Mozilla/5.0 (Mac...|  1747|\n",
      "+--------------------+---------+---------+------+-------------+---------+---------+-----+--------------------+------+--------+-------------+---------+--------------------+------+-------------+--------------------+------+\n"
     ]
    }
   ],
   "source": [
    "user_log.show(5)"
   ],
   "metadata": {
    "collapsed": false,
    "ExecuteTime": {
     "end_time": "2024-05-24T08:23:22.503770526Z",
     "start_time": "2024-05-24T08:23:22.267646469Z"
    }
   },
   "id": "6a81da2e958808ca"
  },
  {
   "cell_type": "code",
   "execution_count": 7,
   "outputs": [
    {
     "name": "stdout",
     "output_type": "stream",
     "text": [
      "root\n",
      " |-- artist: string (nullable = true)\n",
      " |-- auth: string (nullable = true)\n",
      " |-- firstName: string (nullable = true)\n",
      " |-- gender: string (nullable = true)\n",
      " |-- itemInSession: long (nullable = true)\n",
      " |-- lastName: string (nullable = true)\n",
      " |-- length: double (nullable = true)\n",
      " |-- level: string (nullable = true)\n",
      " |-- location: string (nullable = true)\n",
      " |-- method: string (nullable = true)\n",
      " |-- page: string (nullable = true)\n",
      " |-- registration: long (nullable = true)\n",
      " |-- sessionId: long (nullable = true)\n",
      " |-- song: string (nullable = true)\n",
      " |-- status: long (nullable = true)\n",
      " |-- ts: long (nullable = true)\n",
      " |-- userAgent: string (nullable = true)\n",
      " |-- userId: string (nullable = true)\n"
     ]
    }
   ],
   "source": [
    "user_log.printSchema()"
   ],
   "metadata": {
    "collapsed": false,
    "ExecuteTime": {
     "end_time": "2024-05-24T08:23:22.504755722Z",
     "start_time": "2024-05-24T08:23:22.431681249Z"
    }
   },
   "id": "e43680d1c498c2cc"
  },
  {
   "cell_type": "code",
   "execution_count": 8,
   "outputs": [
    {
     "name": "stderr",
     "output_type": "stream",
     "text": [
      "24/05/24 10:23:22 WARN SparkStringUtils: Truncated the string representation of a plan since it was too large. This behavior can be adjusted by setting 'spark.sql.debug.maxToStringFields'.\n",
      "[Stage 6:=============================>                             (1 + 1) / 2]\r"
     ]
    },
    {
     "name": "stdout",
     "output_type": "stream",
     "text": [
      "+-------+-----------------+----------+---------+------+------------------+--------+-----------------+-----+------------+------+-------+--------------------+------------------+--------+-----------------+-------------------+--------------------+------------------+\n",
      "|summary|           artist|      auth|firstName|gender|     itemInSession|lastName|           length|level|    location|method|   page|        registration|         sessionId|    song|           status|                 ts|           userAgent|            userId|\n",
      "+-------+-----------------+----------+---------+------+------------------+--------+-----------------+-----+------------+------+-------+--------------------+------------------+--------+-----------------+-------------------+--------------------+------------------+\n",
      "|  count|             8347|     10000|     9664|  9664|             10000|    9664|             8347|10000|        9664| 10000|  10000|                9664|             10000|    8347|            10000|              10000|                9664|             10000|\n",
      "|   mean|            461.0|      NULL|     NULL|  NULL|           19.6734|    NULL|249.6486587492506| NULL|        NULL|  NULL|   NULL|1.504695369588739...|         4436.7511|Infinity|         202.8984| 1.5137859954164E12|                NULL|1442.4413286423842|\n",
      "| stddev|            300.0|      NULL|     NULL|  NULL|25.382114916132608|    NULL|95.00437130781461| NULL|        NULL|  NULL|   NULL|  8.47314252131656E9|2043.1281541827561|     NaN|18.04179115450588|3.290828862357974E7|                NULL| 829.8909432082621|\n",
      "|    min|              !!!|     Guest|   Aakash|     F|                 0| Acevedo|          1.12281| free|Aberdeen, WA|   GET|  About|       1463503881284|                 9|      #1|              200|      1513720872284|\"Mozilla/5.0 (Mac...|                  |\n",
      "|    max|ÃÂlafur Arnalds|Logged Out|     Zoie|     M|               163|  Zuniga|        1806.8371| paid|    Yuma, AZ|   PUT|Upgrade|       1513760702284|              7144|wingless|              404|      1513848349284|Mozilla/5.0 (comp...|               999|\n",
      "+-------+-----------------+----------+---------+------+------------------+--------+-----------------+-----+------------+------+-------+--------------------+------------------+--------+-----------------+-------------------+--------------------+------------------+\n"
     ]
    },
    {
     "name": "stderr",
     "output_type": "stream",
     "text": [
      "                                                                                \r"
     ]
    }
   ],
   "source": [
    "user_log.describe().show()"
   ],
   "metadata": {
    "collapsed": false,
    "ExecuteTime": {
     "end_time": "2024-05-24T08:23:24.087791128Z",
     "start_time": "2024-05-24T08:23:22.437536812Z"
    }
   },
   "id": "7676a35a797fb481"
  },
  {
   "cell_type": "code",
   "execution_count": 9,
   "outputs": [
    {
     "data": {
      "text/plain": "10000"
     },
     "execution_count": 9,
     "metadata": {},
     "output_type": "execute_result"
    }
   ],
   "source": [
    "user_log.count()"
   ],
   "metadata": {
    "collapsed": false,
    "ExecuteTime": {
     "end_time": "2024-05-24T08:23:24.260862565Z",
     "start_time": "2024-05-24T08:23:24.050239537Z"
    }
   },
   "id": "bff9f8fb4b4a6280"
  },
  {
   "cell_type": "code",
   "execution_count": 10,
   "outputs": [
    {
     "data": {
      "text/plain": "[Row(artist='Showaddywaddy', song='Christmas Tears Will Fall'),\n Row(artist='Darius Rucker', song='Be Wary Of A Woman'),\n Row(artist='Public Enemy', song='Public Enemy No.1'),\n Row(artist='Jag Panzer', song='Reign Of The Tyrants'),\n Row(artist='Boyzone', song='Father And Son'),\n Row(artist='Hollywood Undead', song='No. 5'),\n Row(artist='Jimmy Eat World', song='Seventeen'),\n Row(artist=None, song=None),\n Row(artist='Wilco', song='War on war'),\n Row(artist='Fountains Of Wayne', song='Killermont Street'),\n Row(artist='Miike Snow', song='Black & Blue'),\n Row(artist=None, song=None),\n Row(artist=None, song=None),\n Row(artist='Yeah Yeah Yeahs', song='Heads Will Roll'),\n Row(artist='Linkin Park', song='Bleed It Out [Live At Milton Keynes]'),\n Row(artist='Coldplay', song='Clocks'),\n Row(artist='Jill Scott', song='Love Rain'),\n Row(artist='Glassjaw', song=\"Ry Ry's Song (Album Version)\"),\n Row(artist='Michael Cretu', song='The Invisible Man'),\n Row(artist='Lonnie Gordon', song='Catch You Baby (Steve Pitron & Max Sanna Radio Edit)'),\n Row(artist='Vangelis', song='Ask The Mountains'),\n Row(artist='Linkin Park', song='Given Up (Album Version)'),\n Row(artist='Miguel Calo', song='El Cuatrero'),\n Row(artist='Boys Like Girls', song='Hero/Heroine'),\n Row(artist='RMB / Talla 2XLC', song='Spring'),\n Row(artist='ATB', song='Rising Moon'),\n Row(artist='Gary Allan', song='Tough Little Boys'),\n Row(artist='Marc Lavoine;Catherine Ringer', song=\"Qu'Est-Ce Que T'Es Belle\"),\n Row(artist='OneRepublic', song='Secrets'),\n Row(artist='The Killers', song='Under The Gun')]"
     },
     "execution_count": 10,
     "metadata": {},
     "output_type": "execute_result"
    }
   ],
   "source": [
    "user_log.select(['artist','song']).where(user_log.userId=='1046').collect()"
   ],
   "metadata": {
    "collapsed": false,
    "ExecuteTime": {
     "end_time": "2024-05-24T08:23:24.442330995Z",
     "start_time": "2024-05-24T08:23:24.260205597Z"
    }
   },
   "id": "add0ec53f5ad21ba"
  },
  {
   "cell_type": "code",
   "execution_count": 11,
   "outputs": [
    {
     "data": {
      "text/plain": "[Row(page='About'),\n Row(page='Downgrade'),\n Row(page='Error'),\n Row(page='Help'),\n Row(page='Home'),\n Row(page='Login'),\n Row(page='Logout'),\n Row(page='NextSong'),\n Row(page='Save Settings'),\n Row(page='Settings'),\n Row(page='Submit Downgrade'),\n Row(page='Submit Upgrade'),\n Row(page='Upgrade')]"
     },
     "execution_count": 11,
     "metadata": {},
     "output_type": "execute_result"
    }
   ],
   "source": [
    "user_log.select('page').dropDuplicates().sort('page').collect()\n"
   ],
   "metadata": {
    "collapsed": false,
    "ExecuteTime": {
     "end_time": "2024-05-24T08:23:25.060877105Z",
     "start_time": "2024-05-24T08:23:24.443125502Z"
    }
   },
   "id": "444d0e3510755a2b"
  },
  {
   "cell_type": "code",
   "execution_count": 12,
   "outputs": [
    {
     "name": "stdout",
     "output_type": "stream",
     "text": [
      "+----------------+\n",
      "|            page|\n",
      "+----------------+\n",
      "|           About|\n",
      "|       Downgrade|\n",
      "|           Error|\n",
      "|            Help|\n",
      "|            Home|\n",
      "|           Login|\n",
      "|          Logout|\n",
      "|        NextSong|\n",
      "|   Save Settings|\n",
      "|        Settings|\n",
      "|Submit Downgrade|\n",
      "|  Submit Upgrade|\n",
      "|         Upgrade|\n",
      "+----------------+\n"
     ]
    }
   ],
   "source": [
    "user_log.select('page').dropDuplicates().sort('page').show()"
   ],
   "metadata": {
    "collapsed": false,
    "ExecuteTime": {
     "end_time": "2024-05-24T08:23:25.279648062Z",
     "start_time": "2024-05-24T08:23:25.055403500Z"
    }
   },
   "id": "d397577309eee642"
  },
  {
   "cell_type": "code",
   "execution_count": 13,
   "outputs": [],
   "source": [
    "def get_hour(x):\n",
    "    return datetime.datetime.fromtimestamp(x / 1000.0).hour\n",
    "udf_get_hour = udf(get_hour, IntegerType())"
   ],
   "metadata": {
    "collapsed": false,
    "ExecuteTime": {
     "end_time": "2024-05-24T08:23:25.279979917Z",
     "start_time": "2024-05-24T08:23:25.274510221Z"
    }
   },
   "id": "6d1bf2f283fbe6d2"
  },
  {
   "cell_type": "code",
   "execution_count": 14,
   "outputs": [],
   "source": [
    "user_log=user_log.withColumn('hour',udf_get_hour(user_log.ts))"
   ],
   "metadata": {
    "collapsed": false,
    "ExecuteTime": {
     "end_time": "2024-05-24T08:23:25.328507061Z",
     "start_time": "2024-05-24T08:23:25.283031007Z"
    }
   },
   "id": "dd7eccd0806a9acd"
  },
  {
   "cell_type": "code",
   "execution_count": 15,
   "outputs": [
    {
     "data": {
      "text/plain": "[Row(artist='Justin Timberlake', song='Rock Your Body'),\n Row(artist='Maria Bamford', song=\"Mom's Religion\"),\n Row(artist='Basement Jaxx', song='Bingo Bango'),\n Row(artist='The Zutons', song='Confusion'),\n Row(artist='Clay Walker', song=\"What's It To You (Album Version)\"),\n Row(artist='The Kinks', song='Animal Farm'),\n Row(artist='Warlocks', song='Nobody Knows'),\n Row(artist='Devo', song='Girl U Want (Live)'),\n Row(artist='Blind Melon', song='Paper Scratcher'),\n Row(artist='Jason Mraz & Colbie Caillat', song='Lucky (Album Version)'),\n Row(artist='Colbie Caillat', song=\"I Won't\"),\n Row(artist='Groove Armada', song=\"I Won't Kneel\"),\n Row(artist='Loudness', song=\"DOWN 'N' DIRTY\"),\n Row(artist='Colbie Caillat', song='I Never Told You'),\n Row(artist='Frou Frou', song='Hear Me Out'),\n Row(artist='Vanilla Ice', song='Ice Ice Baby (Radio Edit)'),\n Row(artist='Black Eyed Peas', song='Imma Be'),\n Row(artist='Extreme', song='More Than Words'),\n Row(artist='The Archies', song='Sugar Sugar'),\n Row(artist=None, song=None),\n Row(artist='Ryan Bingham', song=\"Dylan's Hard Rain\"),\n Row(artist='Bunbury', song='Frente A Frente'),\n Row(artist=None, song=None),\n Row(artist='Steppenwolf', song='Born To Be Wild'),\n Row(artist=None, song=None),\n Row(artist=None, song=None),\n Row(artist='Absolute Beginner / Samy Deluxe', song='FÃ\\x83Â¼chse'),\n Row(artist=None, song=None),\n Row(artist=\"Pandora's Box\", song='The Want Ad'),\n Row(artist='Mastodon', song='The Last Baron [Score]'),\n Row(artist='Eminem / Nate Dogg', song=\"'Till I Collapse\"),\n Row(artist='Sam Cooke', song=\"Ain't Misbehavin\"),\n Row(artist='Yann Tiersen', song='La NoyÃ\\x83Â©e'),\n Row(artist='Man Man', song='Black Mission Goggles'),\n Row(artist='Frankie Goes To Hollywood', song='Two Tribes'),\n Row(artist='OneRepublic', song='Say (All I Need)'),\n Row(artist='Los Bunkers', song='Te Vistes Y Te Vas'),\n Row(artist='Evanescence', song='My Immortal (Album Version)'),\n Row(artist='Jesper Kyd', song='Venice Industry'),\n Row(artist='Future Rock', song='Gears'),\n Row(artist='J. Karjalainen & Mustat Lasit', song='Sinisten tÃ\\x83Â¤htien alla'),\n Row(artist='Angels and Airwaves', song='The Gift'),\n Row(artist='Angela Johnson', song='Better (Micky More Classic Mix)'),\n Row(artist='The Shins', song='Caring Is Creepy'),\n Row(artist='Timbaland / Keri Hilson / D.O.E.', song='The Way I Are'),\n Row(artist='Menahan Street Band', song='Make The Road By Walking'),\n Row(artist='Mighty Joe Young', song='Early In The Morning'),\n Row(artist='AFX', song='Bit'),\n Row(artist='Lupe Fiasco', song=\"The Emperor's Soundtrack (Explicit Album Version)\"),\n Row(artist='Franz Ferdinand', song='Take Me Out'),\n Row(artist='India.Arie', song='Get It Together'),\n Row(artist='Camila', song='Todo Cambio'),\n Row(artist=None, song=None),\n Row(artist='David Crowder*Band', song='Only You (Illuminate Album Version)'),\n Row(artist='Jenny Lewis with The Watson Twins', song='Happy (Reprise)'),\n Row(artist='Don Choa Featuring Zaho', song='Lune De Miel'),\n Row(artist='Katy Perry', song='I Kissed A Girl'),\n Row(artist='Coheed and Cambria', song='Apollo I : The Writing Writer'),\n Row(artist='Radney Foster', song='Sweet And Wild'),\n Row(artist='Chromeo', song='Fancy Footwork'),\n Row(artist='Coldplay', song='Fix You'),\n Row(artist=None, song=None),\n Row(artist='Erykah Badu', song='I Want You'),\n Row(artist='Weezer', song='Surf Wax America'),\n Row(artist='Bonobo', song='Kota'),\n Row(artist='Philmont', song='Photosynthetic'),\n Row(artist=None, song=None),\n Row(artist=None, song=None),\n Row(artist='The Airborne Toxic Event', song='Papillon'),\n Row(artist='Emmy The Great', song='Mia'),\n Row(artist='Laura Canales', song='Tres Deseos'),\n Row(artist='Shiny Toy Guns', song='Major Tom (Coming Home)'),\n Row(artist='Massive Attack', song='Everywhen'),\n Row(artist='Tricky', song='Christiansands'),\n Row(artist='The Decemberists', song='Margaret In Captivity'),\n Row(artist='Sugarland', song='Love'),\n Row(artist='Clutch', song='The Mob Goes Wild'),\n Row(artist='Penguin CafÃ\\x83Â© Orchestra', song='Numbers 1-4'),\n Row(artist='The Knack', song='My Sharona'),\n Row(artist=None, song=None),\n Row(artist='Third Day', song='I Got You'),\n Row(artist='Killswitch Engage', song='This Fire (Album Version)'),\n Row(artist='Neko Case', song='People Got A Lotta Nerve'),\n Row(artist='Primus', song='Intruder'),\n Row(artist='The Sutherland Brothers;Quiver', song='Arms Of Mary'),\n Row(artist=None, song=None),\n Row(artist=None, song=None),\n Row(artist='Mudcrutch', song='Six Days On The Road (Album Version)'),\n Row(artist=None, song=None),\n Row(artist='Balkan Beat Box', song='Sunday Arak'),\n Row(artist='Coldplay', song='In My Place'),\n Row(artist=None, song=None),\n Row(artist='Coldplay', song='The Scientist'),\n Row(artist='Miike Snow', song='Plastic Jungle'),\n Row(artist='Soundgarden', song='Black Hole Sun'),\n Row(artist='Sam Cooke', song=\"Ain't Misbehavin\"),\n Row(artist='CÃ\\x83Â©line Dion', song='My Heart Will Go On'),\n Row(artist='The Darkness', song='I Believe In A Thing Called Love'),\n Row(artist='Evanescence', song='Bring Me To Life'),\n Row(artist='Eminem / Nate Dogg', song=\"'Till I Collapse\"),\n Row(artist='Man Man', song='Black Mission Goggles'),\n Row(artist=None, song=None),\n Row(artist='Static-X', song='Monster (Album Version)'),\n Row(artist='Young Money', song='Finale'),\n Row(artist='Kid Cudi', song='Cudi Zone'),\n Row(artist='Bow Wow', song='Like You'),\n Row(artist='Dominique A', song='Le Courage Des Oiseaux'),\n Row(artist='Bloodhound Gang', song='Kiss Me Where It Smells Funny'),\n Row(artist=\"Caribou (formerly Dan Snaith's Manitoba)\", song='Webers'),\n Row(artist='RÃ\\x83Â³isÃ\\x83Â\\xadn Murphy', song='You Know Me Better (Album Version)'),\n Row(artist='Rage Against The Machine', song='Fistful Of Steel'),\n Row(artist=None, song=None),\n Row(artist='Michael BublÃ\\x83Â©', song='Save The Last Dance For Me (Album Version)'),\n Row(artist='Gorilla Zoe', song='Hood N**** (Explicit Album Version)'),\n Row(artist=None, song=None),\n Row(artist='OM', song='On The Mountain At Dawn'),\n Row(artist='Thomas Newman', song='Root Beer'),\n Row(artist='Kanye West / T-Pain', song='Good Life'),\n Row(artist='Sub Focus', song='Could This Be Real (Joker Remix)'),\n Row(artist='Justin Bieber', song='Up'),\n Row(artist='Justice', song='Waters Of Nazareth (album version)'),\n Row(artist='Lady Sovereign', song='So Human'),\n Row(artist='Rhonda Vincent', song='Each Season Changes You'),\n Row(artist='Violet Indiana', song='Hiding'),\n Row(artist='Florence + The Machine', song='Dog Days Are Over (Radio Edit)'),\n Row(artist='Floating Action', song='Say Goodbye'),\n Row(artist=None, song=None),\n Row(artist='David Sanborn', song='St. Louis Blues'),\n Row(artist=None, song=None),\n Row(artist='Ancient Astronauts', song='From the Sky'),\n Row(artist='Sonny Rollins', song='You Do Something To Me'),\n Row(artist=None, song=None),\n Row(artist='Syntone', song=\"Can'T Believe It (Silverblue Remix)\"),\n Row(artist='Vinnie Vincent Invasion', song='Ecstasy (2003 Digital Remaster)'),\n Row(artist='Richard Smallwood', song='Center Of My Joy (The Richard Smallwood Singers Live Album Version)'),\n Row(artist='PanteÃ\\x83Â³n RococÃ\\x83Â³', song='Reality Shock'),\n Row(artist='Nickelback', song='Someday'),\n Row(artist='Creedence Clearwater Revival', song='I Heard It Through The Grapevine'),\n Row(artist=None, song=None),\n Row(artist='Ivy', song='Edge Of The Ocean'),\n Row(artist='Parachute', song='Ghost'),\n Row(artist=None, song=None),\n Row(artist=None, song=None),\n Row(artist='Shania Twain', song='Nah!'),\n Row(artist=None, song=None),\n Row(artist=None, song=None),\n Row(artist=None, song=None),\n Row(artist='Lifehouse', song='Wrecking Ball'),\n Row(artist='Willie Dixon', song='You Shook Me'),\n Row(artist='Andreas Johnson', song='Glorious'),\n Row(artist='Katy Perry', song='Thinking Of You'),\n Row(artist=None, song=None),\n Row(artist='The Mars Volta', song='Eriatarka'),\n Row(artist='Clan Of Xymox', song='Muscoviet Musquito'),\n Row(artist='Beach House', song='Turtle Island'),\n Row(artist='Escape The Fate', song='Friends And Alibis'),\n Row(artist='Jadakiss / Swizz Beatz / OJ Da Juiceman', song=\"Who's Real\"),\n Row(artist='Linkin Park', song='Bleed It Out [Live At Milton Keynes]'),\n Row(artist=None, song=None),\n Row(artist='Andrew Lloyd Webber', song='Once Upon Another Time'),\n Row(artist='No Te Va Gustar', song='No Llegas A MÃ\\x83Â\\xad'),\n Row(artist='Vampire Weekend', song='A-Punk (Album)'),\n Row(artist='Bloc Party', song='Ion Square'),\n Row(artist='Death From Above 1979', song='Going Steady'),\n Row(artist='Boys Like Girls featuring Taylor Swift', song='Two Is Better Than One'),\n Row(artist='Muse', song='Ruled By Secrecy'),\n Row(artist='Beirut', song='Nantes'),\n Row(artist='Softlightes', song='If The World Had Cookies'),\n Row(artist='Bright Eyes', song='Take It Easy (love Nothing) (Album Version)'),\n Row(artist='Wiz Khalifa', song='Say Yeah [Radio Edit]'),\n Row(artist=None, song=None),\n Row(artist='Koyi K Utho', song='Earthly Collapse'),\n Row(artist='All Saints', song='Lady Marmalade (Timbaland Remix)'),\n Row(artist='Eminem', song='My Name Is'),\n Row(artist='Weezer', song='Buddy Holly'),\n Row(artist='Grandmaster Flash & The Furious Five', song='The Message'),\n Row(artist=None, song=None),\n Row(artist=None, song=None),\n Row(artist='Nickelback', song='Slow Motion'),\n Row(artist='Orishas', song='Mujer'),\n Row(artist=None, song=None),\n Row(artist='The Radio Dept.', song=\"Where Damage Isn't Already Done\"),\n Row(artist=None, song=None),\n Row(artist=None, song=None),\n Row(artist='Sven van Thom', song='Trauriges MÃ\\x83Â¤dchen'),\n Row(artist='Charles Mingus', song='Me And You Blues'),\n Row(artist='J. Karjalainen & Mustat Lasit', song='Sinisten tÃ\\x83Â¤htien alla'),\n Row(artist='Tom Waits', song='Cemetery Polka'),\n Row(artist='The Smiths', song='Girlfriend In A Coma'),\n Row(artist='MÃ\\x83Âºm', song='A Little Bit_ Sometimes'),\n Row(artist='Mos Def', song='Sex_ Love & Money'),\n Row(artist='Radiohead', song='(Nice Dream)'),\n Row(artist='Ying Yang Twins ft. Pitbull', song='Shake'),\n Row(artist='Tankard', song='The Morning After'),\n Row(artist='BjÃ\\x83Â¶rk', song='Undo'),\n Row(artist='Colt Ford', song=\"Huntin' The World\"),\n Row(artist=\"Fat Freddy's Drop\", song='Flashback'),\n Row(artist='Lady GaGa', song='Paper Gangsta'),\n Row(artist='Deana Carter', song='Strawberry Wine'),\n Row(artist='Fluke', song='Bermuda'),\n Row(artist='Starfield', song='My Generation (Beauty In The Broken Album Version)'),\n Row(artist='Lil Wayne / Eminem', song='Drop The World'),\n Row(artist='matchbox twenty', song='Mad Season (LP Version)'),\n Row(artist='Viki Mosholiou', song='To Palikari Sto Sfiri'),\n Row(artist=\"Axwell Featuring Max'C\", song='I Found U (Vocal Remode)'),\n Row(artist='Afrika Bambaataa & The Soul Sonic Force', song=\"Don't Stop...Planet Rock (In The Pocket Mix) feat. Bambaataa_ Eric Kupper & Mohamed Moretta\"),\n Row(artist='Banaroo', song='Space Cowboy'),\n Row(artist='Major Organ And The Adding Machine', song='Kissing Behind The Rubbery Grinder'),\n Row(artist='Alice In Chains', song='No Excuses'),\n Row(artist=None, song=None),\n Row(artist='Cat Power', song='Good Woman'),\n Row(artist='Yellowcard', song='Fighting'),\n Row(artist='Matt Darey featuring Marcella Woods', song='U Shine On'),\n Row(artist='The Solid Doctor', song='Punctus Contra Punctum'),\n Row(artist='The Turtles', song='Me About You'),\n Row(artist='Bajaga & Instruktori', song='Godine prolaze'),\n Row(artist='Killing Joke', song='Follow the Leaders'),\n Row(artist='Van Halen', song='Dreams (Remastered Version)'),\n Row(artist=None, song=None),\n Row(artist=None, song=None),\n Row(artist='Gene Ammons / Sonny Stitt', song='Autumn Leaves'),\n Row(artist='Sa Trincha', song='Live from Heart'),\n Row(artist='T.I.', song='Why You Wanna (Amended Album Version)'),\n Row(artist='Rebecka TÃ\\x83Â¶rnqvist', song='A Dream'),\n Row(artist='Team Sleep', song='Our Ride To The Rectory (Album Version)'),\n Row(artist='Chris Brown', song='This Christmas'),\n Row(artist='Luis Enrique', song='Inocencia'),\n Row(artist=None, song=None),\n Row(artist='Eagles', song=\"Life's Been Good (Live Version)\"),\n Row(artist=None, song=None),\n Row(artist='Alice In Chains', song='Your Decision'),\n Row(artist='The Calling', song='Wherever You Will Go'),\n Row(artist='The Devil Wears Prada', song=\"Don't Dink and Drance (Album Version)\"),\n Row(artist='Stone Temple Pilots', song='Creep (LP Version)'),\n Row(artist='Horse Feathers', song='Helen'),\n Row(artist='Despina Vandi', song='Stamata Na Mou Kollas'),\n Row(artist='Blue Cheer', song='Rock Me Baby'),\n Row(artist='Ney Matogrosso / Rafael Rabello', song='Balada Do Louco'),\n Row(artist=None, song=None),\n Row(artist='From First to Last', song='The Latest Plague'),\n Row(artist=None, song=None),\n Row(artist='Radiohead', song='A Reminder'),\n Row(artist='Head Automatica', song='Beating Heart Baby (Album Version)'),\n Row(artist=None, song=None),\n Row(artist='Pinback', song='Penelope'),\n Row(artist='BjÃ\\x83Â¶rk', song='Undo'),\n Row(artist='Kid Cudi / MGMT / Ratatat', song='Pursuit Of Happiness (nightmare)'),\n Row(artist='Habib KoitÃ\\x83Â©', song='Woulaba'),\n Row(artist='Bill Withers', song='Make Love To Your Mind'),\n Row(artist='Sugar Pie DeSanto', song='Soulful Dress'),\n Row(artist='Rocio Durcal', song='Un Mundo Raro'),\n Row(artist='Paramore', song='Rewind (Demo)'),\n Row(artist='Natiruts', song='Andei SÃ\\x83Â³'),\n Row(artist='The Ruts', song='West One (Shine On Me)'),\n Row(artist='Jay & The Americans', song='Cara_ Mia'),\n Row(artist=None, song=None),\n Row(artist='Monsters Of Folk', song='Whole Lotta Losin\\x19'),\n Row(artist='Miranda Lambert', song=\"Mama_ I'm Alright\"),\n Row(artist='Evanescence', song='Bring Me To Life'),\n Row(artist='Godsmack', song='Serenity'),\n Row(artist='Charly GarcÃ\\x83Â\\xada', song='Tu Vicio'),\n Row(artist='The Octopus Project + Black Moth Super Rainbow', song='All the Friends You Can Eat'),\n Row(artist='Postal Service', song='Natural Anthem (Album)'),\n Row(artist='The Academy Is...', song=\"LAX to O'Hare (Album Version)\"),\n Row(artist='Matthew Dear', song='Neighborhoods'),\n Row(artist='Kanye West / Mos Def', song='Drunk and Hot Girls'),\n Row(artist='Iron And Wine', song='Naked As We Can'),\n Row(artist='James Taylor', song='Oh_ Susannah (LP Version)'),\n Row(artist='Muse', song='Stockholm Syndrome'),\n Row(artist='Justin Bieber', song='Stuck In The Moment'),\n Row(artist='Ghost in the Machine', song='Lady Love'),\n Row(artist='The Lettermen', song='Put Your Head On My Shoulder'),\n Row(artist='Yann Tiersen', song='Dishes'),\n Row(artist='The Van Jets', song='Matador'),\n Row(artist='Marc Anthony', song='Hasta Que Te Conoci'),\n Row(artist='Taylor Swift', song='The Way I Loved You'),\n Row(artist='My Chemical Romance', song='Dead! (Album Version)'),\n Row(artist='Alanis Morissette', song='Head Over Feet (Album Version)'),\n Row(artist='Milczenie Owiec', song='CIEÃ\\x83Â\\x91'),\n Row(artist='Maher Shahal Hash Baz', song='Iyomanzai'),\n Row(artist='B.o.B', song=\"Nothin' On You [feat. Bruno Mars] (Album Version)\"),\n Row(artist='The Ruts', song='West One (Shine On Me)'),\n Row(artist=None, song=None),\n Row(artist='Black Alien', song='From Hell Do CÃ\\x83Â©u'),\n Row(artist='Kings Of Leon', song='Revelry'),\n Row(artist=None, song=None),\n Row(artist='Vonray', song='Inside Out (LP Version)'),\n Row(artist='Karsh Kale', song='Free Fall'),\n Row(artist='Radiohead', song='(Nice Dream)'),\n Row(artist='Donald Fagen', song='New Frontier (Album Version)'),\n Row(artist='Gym Class Heroes', song='Viva La White Girl (Album Version)'),\n Row(artist='Black Eyed Peas', song='I Gotta Feeling'),\n Row(artist='LMFAO', song='Yes'),\n Row(artist='Led Zeppelin', song='Tangerine  (Album Version)')]"
     },
     "execution_count": 15,
     "metadata": {},
     "output_type": "execute_result"
    }
   ],
   "source": [
    "user_log.select(['artist','song']).where(user_log.hour==10).collect()"
   ],
   "metadata": {
    "collapsed": false,
    "ExecuteTime": {
     "end_time": "2024-05-24T08:23:26.076608309Z",
     "start_time": "2024-05-24T08:23:25.310853415Z"
    }
   },
   "id": "48e4763f7c216b18"
  },
  {
   "cell_type": "code",
   "execution_count": 16,
   "outputs": [],
   "source": [
    "# get_hour =udf(lambda x: datetime.datetime.fromtimestamp(x / 1000.0).hour)\n",
    "# user_log.withColumn('hour',get_hour(user_log.ts))"
   ],
   "metadata": {
    "collapsed": false,
    "ExecuteTime": {
     "end_time": "2024-05-24T08:23:26.077472888Z",
     "start_time": "2024-05-24T08:23:26.015775685Z"
    }
   },
   "id": "c4ca96b6ac45cd96"
  },
  {
   "cell_type": "code",
   "execution_count": 17,
   "outputs": [
    {
     "data": {
      "text/plain": "Row(artist='Showaddywaddy', auth='Logged In', firstName='Kenneth', gender='M', itemInSession=112, lastName='Matthews', length=232.93342, level='paid', location='Charlotte-Concord-Gastonia, NC-SC', method='PUT', page='NextSong', registration=1509380319284, sessionId=5132, song='Christmas Tears Will Fall', status=200, ts=1513720872284, userAgent='\"Mozilla/5.0 (Windows NT 6.1) AppleWebKit/537.36 (KHTML, like Gecko) Chrome/36.0.1985.125 Safari/537.36\"', userId='1046', hour=23)"
     },
     "execution_count": 17,
     "metadata": {},
     "output_type": "execute_result"
    }
   ],
   "source": [
    "user_log.head()"
   ],
   "metadata": {
    "collapsed": false,
    "ExecuteTime": {
     "end_time": "2024-05-24T08:23:26.162059283Z",
     "start_time": "2024-05-24T08:23:26.018802229Z"
    }
   },
   "id": "a5525153f76eabcd"
  },
  {
   "cell_type": "code",
   "execution_count": 18,
   "outputs": [
    {
     "name": "stdout",
     "output_type": "stream",
     "text": [
      "+----+-----+\n",
      "|hour|count|\n",
      "+----+-----+\n",
      "|   0|  375|\n",
      "|   1|  456|\n",
      "|   2|  454|\n",
      "|   3|  382|\n",
      "|   4|  302|\n",
      "|   5|  352|\n",
      "|   6|  276|\n",
      "|   7|  348|\n",
      "|   8|  358|\n",
      "|   9|  375|\n",
      "|  10|  249|\n",
      "|  11|  216|\n",
      "|  12|  228|\n",
      "|  13|  251|\n",
      "|  14|  339|\n",
      "|  15|  462|\n",
      "|  16|  479|\n",
      "|  17|  484|\n",
      "|  18|  430|\n",
      "|  19|  362|\n",
      "+----+-----+\n"
     ]
    }
   ],
   "source": [
    "song_in_hour = user_log.select('hour').where(user_log.page=='NextSong').groupby(user_log.hour).count().sort(user_log.hour)\n",
    "song_in_hour.show()"
   ],
   "metadata": {
    "collapsed": false,
    "ExecuteTime": {
     "end_time": "2024-05-24T08:23:26.476422241Z",
     "start_time": "2024-05-24T08:23:26.153526444Z"
    }
   },
   "id": "36b2f7effb295035"
  },
  {
   "cell_type": "code",
   "execution_count": 19,
   "outputs": [
    {
     "data": {
      "text/plain": "([<matplotlib.axis.XTick at 0x7434ef740670>,\n  <matplotlib.axis.XTick at 0x7434ef740640>,\n  <matplotlib.axis.XTick at 0x7434ef8c3dc0>,\n  <matplotlib.axis.XTick at 0x7434ef788df0>,\n  <matplotlib.axis.XTick at 0x7434ef789540>,\n  <matplotlib.axis.XTick at 0x7434ef789ff0>,\n  <matplotlib.axis.XTick at 0x7434ef78aaa0>,\n  <matplotlib.axis.XTick at 0x7434ef78b550>,\n  <matplotlib.axis.XTick at 0x7434ef78bca0>,\n  <matplotlib.axis.XTick at 0x7434ef78a260>,\n  <matplotlib.axis.XTick at 0x7434ef7c8940>,\n  <matplotlib.axis.XTick at 0x7434ef7c9420>,\n  <matplotlib.axis.XTick at 0x7434ef7c9ed0>,\n  <matplotlib.axis.XTick at 0x7434ef7893c0>,\n  <matplotlib.axis.XTick at 0x7434ef7ca7d0>,\n  <matplotlib.axis.XTick at 0x7434ef7cb280>,\n  <matplotlib.axis.XTick at 0x7434ef7cbd30>,\n  <matplotlib.axis.XTick at 0x7434ef7e0820>,\n  <matplotlib.axis.XTick at 0x7434ef7ca9e0>,\n  <matplotlib.axis.XTick at 0x7434ef7e1240>,\n  <matplotlib.axis.XTick at 0x7434ef7e1cf0>,\n  <matplotlib.axis.XTick at 0x7434ef7e27a0>,\n  <matplotlib.axis.XTick at 0x7434ef7e3250>,\n  <matplotlib.axis.XTick at 0x7434ef7e2050>,\n  <matplotlib.axis.XTick at 0x7434ef7e3b50>],\n [Text(0, 0, '0'),\n  Text(1, 0, '1'),\n  Text(2, 0, '2'),\n  Text(3, 0, '3'),\n  Text(4, 0, '4'),\n  Text(5, 0, '5'),\n  Text(6, 0, '6'),\n  Text(7, 0, '7'),\n  Text(8, 0, '8'),\n  Text(9, 0, '9'),\n  Text(10, 0, '10'),\n  Text(11, 0, '11'),\n  Text(12, 0, '12'),\n  Text(13, 0, '13'),\n  Text(14, 0, '14'),\n  Text(15, 0, '15'),\n  Text(16, 0, '16'),\n  Text(17, 0, '17'),\n  Text(18, 0, '18'),\n  Text(19, 0, '19'),\n  Text(20, 0, '20'),\n  Text(21, 0, '21'),\n  Text(22, 0, '22'),\n  Text(23, 0, '23'),\n  Text(24, 0, '24')])"
     },
     "execution_count": 19,
     "metadata": {},
     "output_type": "execute_result"
    },
    {
     "data": {
      "text/plain": "<Figure size 640x480 with 1 Axes>",
      "image/png": "[encoded data removed]"
     },
     "metadata": {},
     "output_type": "display_data"
    }
   ],
   "source": [
    "song_in_hour_pd = song_in_hour.toPandas()\n",
    "plt.scatter(x=song_in_hour_pd['hour'],y= song_in_hour_pd['count'])\n",
    "plt.xlim(0,24)\n",
    "plt.ylim(0, 1.2*max(song_in_hour_pd['count']))\n",
    "plt.xlabel('Hour')\n",
    "plt.ylabel('Number of played Songs')\n",
    "plt.xticks(range(0, 25))"
   ],
   "metadata": {
    "collapsed": false,
    "ExecuteTime": {
     "end_time": "2024-05-24T08:23:27.061808238Z",
     "start_time": "2024-05-24T08:23:26.479447191Z"
    }
   },
   "id": "b7acce0cc55d008a"
  },
  {
   "cell_type": "code",
   "execution_count": 20,
   "outputs": [],
   "source": [
    "user_log_valid= user_log.dropna(how='any',subset=['userId','sessionId'])"
   ],
   "metadata": {
    "collapsed": false,
    "ExecuteTime": {
     "end_time": "2024-05-24T08:23:27.075127878Z",
     "start_time": "2024-05-24T08:23:27.061123408Z"
    }
   },
   "id": "8a6d4510579b6db8"
  },
  {
   "cell_type": "code",
   "execution_count": 21,
   "outputs": [
    {
     "data": {
      "text/plain": "10000"
     },
     "execution_count": 21,
     "metadata": {},
     "output_type": "execute_result"
    }
   ],
   "source": [
    "user_log_valid.count()"
   ],
   "metadata": {
    "collapsed": false,
    "ExecuteTime": {
     "end_time": "2024-05-24T08:23:27.252607476Z",
     "start_time": "2024-05-24T08:23:27.075591201Z"
    }
   },
   "id": "5ab84fdbba369214"
  },
  {
   "cell_type": "code",
   "execution_count": 22,
   "outputs": [
    {
     "name": "stdout",
     "output_type": "stream",
     "text": [
      "+------+\n",
      "|userId|\n",
      "+------+\n",
      "|      |\n",
      "|    10|\n",
      "|   100|\n",
      "|  1000|\n",
      "|  1003|\n",
      "|  1005|\n",
      "|  1006|\n",
      "|  1017|\n",
      "|  1019|\n",
      "|  1020|\n",
      "|  1022|\n",
      "|  1025|\n",
      "|  1030|\n",
      "|  1035|\n",
      "|  1037|\n",
      "|   104|\n",
      "|  1040|\n",
      "|  1042|\n",
      "|  1043|\n",
      "|  1046|\n",
      "+------+\n"
     ]
    }
   ],
   "source": [
    "user_log_valid.select('userId').dropDuplicates(['userId']).sort('userId').show()"
   ],
   "metadata": {
    "collapsed": false,
    "ExecuteTime": {
     "end_time": "2024-05-24T08:23:27.550398294Z",
     "start_time": "2024-05-24T08:23:27.251533432Z"
    }
   },
   "id": "e1627cd33d356eb3"
  },
  {
   "cell_type": "code",
   "execution_count": 23,
   "outputs": [
    {
     "data": {
      "text/plain": "9664"
     },
     "execution_count": 23,
     "metadata": {},
     "output_type": "execute_result"
    }
   ],
   "source": [
    "user_log_valid=user_log_valid.filter(user_log_valid.userId !=\"\")\n",
    "user_log_valid.count()"
   ],
   "metadata": {
    "collapsed": false,
    "ExecuteTime": {
     "end_time": "2024-05-24T08:23:27.721844333Z",
     "start_time": "2024-05-24T08:23:27.552344020Z"
    }
   },
   "id": "a79934d09e3e5fd7"
  },
  {
   "cell_type": "code",
   "execution_count": 24,
   "outputs": [
    {
     "name": "stdout",
     "output_type": "stream",
     "text": [
      "+------+---------+---------+------+-------------+--------+------+-----+--------------------+------+----------------+-------------+---------+----+------+-------------+--------------------+------+----+\n",
      "|artist|     auth|firstName|gender|itemInSession|lastName|length|level|            location|method|            page| registration|sessionId|song|status|           ts|           userAgent|userId|hour|\n",
      "+------+---------+---------+------+-------------+--------+------+-----+--------------------+------+----------------+-------------+---------+----+------+-------------+--------------------+------+----+\n",
      "|  NULL|Logged In|    Kelly|     F|           24|  Newton|  NULL| paid|Houston-The Woodl...|   PUT|Submit Downgrade|1513283366284|     5931|NULL|   307|1513768454284|Mozilla/5.0 (Wind...|  1138|  12|\n",
      "+------+---------+---------+------+-------------+--------+------+-----+--------------------+------+----------------+-------------+---------+----+------+-------------+--------------------+------+----+\n"
     ]
    }
   ],
   "source": [
    "user_log_valid.filter('page==\"Submit Downgrade\"').show()"
   ],
   "metadata": {
    "collapsed": false,
    "ExecuteTime": {
     "end_time": "2024-05-24T08:23:28.024556335Z",
     "start_time": "2024-05-24T08:23:27.717273750Z"
    }
   },
   "id": "8df98d78702f3af0"
  },
  {
   "cell_type": "code",
   "execution_count": 25,
   "outputs": [
    {
     "name": "stdout",
     "output_type": "stream",
     "text": [
      "+--------------------+---------+---------+------+-------------+--------+---------+-----+--------------------+------+--------+-------------+---------+--------------------+------+-------------+--------------------+------+----+\n",
      "|              artist|     auth|firstName|gender|itemInSession|lastName|   length|level|            location|method|    page| registration|sessionId|                song|status|           ts|           userAgent|userId|hour|\n",
      "+--------------------+---------+---------+------+-------------+--------+---------+-----+--------------------+------+--------+-------------+---------+--------------------+------+-------------+--------------------+------+----+\n",
      "|                NULL|Logged In|    Kelly|     F|            2|  Newton|     NULL| paid|Houston-The Woodl...|   GET|    Home|1513283366284|     5566|                NULL|   200|1513729066284|Mozilla/5.0 (Wind...|  1138|   1|\n",
      "|           Black Box|Logged In|    Kelly|     F|            3|  Newton|247.03955| paid|Houston-The Woodl...|   PUT|NextSong|1513283366284|     5566| Everybody Everybody|   200|1513729066284|Mozilla/5.0 (Wind...|  1138|   1|\n",
      "|         Future Rock|Logged In|    Kelly|     F|            4|  Newton|239.90812| paid|Houston-The Woodl...|   PUT|NextSong|1513283366284|     5566|               Gears|   200|1513729313284|Mozilla/5.0 (Wind...|  1138|   1|\n",
      "|       Kings Of Leon|Logged In|    Kelly|     F|            5|  Newton|231.81016| paid|Houston-The Woodl...|   PUT|NextSong|1513283366284|     5566|        Use Somebody|   200|1513729552284|Mozilla/5.0 (Wind...|  1138|   1|\n",
      "|               Queen|Logged In|    Kelly|     F|            6|  Newton|218.95791| paid|Houston-The Woodl...|   PUT|NextSong|1513283366284|     5566|Love Of My Life (...|   200|1513729783284|Mozilla/5.0 (Wind...|  1138|   1|\n",
      "|       Jackie Greene|Logged In|    Kelly|     F|            7|  Newton|262.26893| paid|Houston-The Woodl...|   PUT|NextSong|1513283366284|     5566|Down In The Valle...|   200|1513730001284|Mozilla/5.0 (Wind...|  1138|   1|\n",
      "|     The Temptations|Logged In|    Kelly|     F|            8|  Newton|255.03302| paid|Houston-The Woodl...|   PUT|NextSong|1513283366284|     5566|Treat Her Like A ...|   200|1513730263284|Mozilla/5.0 (Wind...|  1138|   1|\n",
      "|         Amy Allison|Logged In|    Kelly|     F|            9|  Newton|250.98404| paid|Houston-The Woodl...|   PUT|NextSong|1513283366284|     5566|Everybody Thinks ...|   200|1513730518284|Mozilla/5.0 (Wind...|  1138|   1|\n",
      "|Screamin' Jay Haw...|Logged In|    Kelly|     F|           10|  Newton|414.79791| paid|Houston-The Woodl...|   PUT|NextSong|1513283366284|     5566|      Fourteen Wives|   200|1513730768284|Mozilla/5.0 (Wind...|  1138|   1|\n",
      "|      Sara Bareilles|Logged In|    Kelly|     F|           11|  Newton|253.02159| paid|Houston-The Woodl...|   PUT|NextSong|1513283366284|     5566|   Love On The Rocks|   200|1513731182284|Mozilla/5.0 (Wind...|  1138|   1|\n",
      "|          The Script|Logged In|    Kelly|     F|           12|  Newton|260.67546| paid|Houston-The Woodl...|   PUT|NextSong|1513283366284|     5566|           Breakeven|   200|1513731435284|Mozilla/5.0 (Wind...|  1138|   1|\n",
      "|   Animal Collective|Logged In|    Kelly|     F|           13|  Newton| 162.2722| paid|Houston-The Woodl...|   PUT|NextSong|1513283366284|     5566|          Leaf House|   200|1513731695284|Mozilla/5.0 (Wind...|  1138|   2|\n",
      "|          Sami Saari|Logged In|    Kelly|     F|           14|  Newton|  303.882| paid|Houston-The Woodl...|   PUT|NextSong|1513283366284|     5566|       NAISEN KANSSA|   200|1513731857284|Mozilla/5.0 (Wind...|  1138|   2|\n",
      "|      Rhonda Vincent|Logged In|    Kelly|     F|           15|  Newton|142.78485| paid|Houston-The Woodl...|   PUT|NextSong|1513283366284|     5566|  You're In My Heart|   200|1513732160284|Mozilla/5.0 (Wind...|  1138|   2|\n",
      "|Bachman-Turner Ov...|Logged In|    Kelly|     F|           16|  Newton|238.49751| paid|Houston-The Woodl...|   PUT|NextSong|1513283366284|     5566|Roll On Down The ...|   200|1513732302284|Mozilla/5.0 (Wind...|  1138|   2|\n",
      "|         Andrew Bird|Logged In|    Kelly|     F|           17|  Newton|230.73914| paid|Houston-The Woodl...|   PUT|NextSong|1513283366284|     5566|Plasticities (Remix)|   200|1513732540284|Mozilla/5.0 (Wind...|  1138|   2|\n",
      "|         OneRepublic|Logged In|    Kelly|     F|           18|  Newton|224.67873| paid|Houston-The Woodl...|   PUT|NextSong|1513283366284|     5566|             Secrets|   200|1513732770284|Mozilla/5.0 (Wind...|  1138|   2|\n",
      "|      The Cat Empire|Logged In|    Kelly|     F|           19|  Newton|229.04118| paid|Houston-The Woodl...|   PUT|NextSong|1513283366284|     5566|               Hello|   200|1513732994284|Mozilla/5.0 (Wind...|  1138|   2|\n",
      "|      Colbie Caillat|Logged In|    Kelly|     F|           20|  Newton|233.16853| paid|Houston-The Woodl...|   PUT|NextSong|1513283366284|     5566|    I Never Told You|   200|1513733223284|Mozilla/5.0 (Wind...|  1138|   2|\n",
      "|           Starfield|Logged In|    Kelly|     F|           21|  Newton|282.98404| paid|Houston-The Woodl...|   PUT|NextSong|1513283366284|     5566|       Love Break Me|   200|1513733456284|Mozilla/5.0 (Wind...|  1138|   2|\n",
      "+--------------------+---------+---------+------+-------------+--------+---------+-----+--------------------+------+--------+-------------+---------+--------------------+------+-------------+--------------------+------+----+\n"
     ]
    }
   ],
   "source": [
    "user_log_valid.filter('ts<\"1513768454284\"' ).filter('userId==\"1138\"').sort('ts').show()"
   ],
   "metadata": {
    "collapsed": false,
    "ExecuteTime": {
     "end_time": "2024-05-24T08:23:28.248685909Z",
     "start_time": "2024-05-24T08:23:28.010181846Z"
    }
   },
   "id": "c55f36e8ff1ee3fb"
  },
  {
   "cell_type": "code",
   "execution_count": 26,
   "outputs": [
    {
     "data": {
      "text/plain": "[Row(userId='1138', firstName='Kelly', page='Home', level='paid', song=None),\n Row(userId='1138', firstName='Kelly', page='NextSong', level='paid', song='Everybody Everybody'),\n Row(userId='1138', firstName='Kelly', page='NextSong', level='paid', song='Gears'),\n Row(userId='1138', firstName='Kelly', page='NextSong', level='paid', song='Use Somebody'),\n Row(userId='1138', firstName='Kelly', page='NextSong', level='paid', song='Love Of My Life (1993 Digital Remaster)'),\n Row(userId='1138', firstName='Kelly', page='NextSong', level='paid', song='Down In The Valley Woe'),\n Row(userId='1138', firstName='Kelly', page='NextSong', level='paid', song='Treat Her Like A Lady'),\n Row(userId='1138', firstName='Kelly', page='NextSong', level='paid', song=\"Everybody Thinks You're An Angel\"),\n Row(userId='1138', firstName='Kelly', page='NextSong', level='paid', song='Fourteen Wives'),\n Row(userId='1138', firstName='Kelly', page='NextSong', level='paid', song='Love On The Rocks'),\n Row(userId='1138', firstName='Kelly', page='NextSong', level='paid', song='Breakeven'),\n Row(userId='1138', firstName='Kelly', page='NextSong', level='paid', song='Leaf House'),\n Row(userId='1138', firstName='Kelly', page='NextSong', level='paid', song='NAISEN KANSSA'),\n Row(userId='1138', firstName='Kelly', page='NextSong', level='paid', song=\"You're In My Heart\"),\n Row(userId='1138', firstName='Kelly', page='NextSong', level='paid', song='Roll On Down The Highway'),\n Row(userId='1138', firstName='Kelly', page='NextSong', level='paid', song='Plasticities (Remix)'),\n Row(userId='1138', firstName='Kelly', page='NextSong', level='paid', song='Secrets'),\n Row(userId='1138', firstName='Kelly', page='NextSong', level='paid', song='Hello'),\n Row(userId='1138', firstName='Kelly', page='NextSong', level='paid', song='I Never Told You'),\n Row(userId='1138', firstName='Kelly', page='NextSong', level='paid', song='Love Break Me'),\n Row(userId='1138', firstName='Kelly', page='NextSong', level='paid', song='One Touch One Bounce'),\n Row(userId='1138', firstName='Kelly', page='NextSong', level='paid', song='Undo'),\n Row(userId='1138', firstName='Kelly', page='NextSong', level='paid', song='Overdue (Blackbeard Remix)'),\n Row(userId='1138', firstName='Kelly', page='NextSong', level='paid', song='Slave To Love (1999 Digital Remaster)'),\n Row(userId='1138', firstName='Kelly', page='NextSong', level='paid', song='Stronger'),\n Row(userId='1138', firstName='Kelly', page='NextSong', level='paid', song='All Of Us (Album Version)'),\n Row(userId='1138', firstName='Kelly', page='NextSong', level='paid', song='Sehr kosmisch'),\n Row(userId='1138', firstName='Kelly', page='NextSong', level='paid', song='March Of The Celts'),\n Row(userId='1138', firstName='Kelly', page='NextSong', level='paid', song='Electricity'),\n Row(userId='1138', firstName='Kelly', page='NextSong', level='paid', song='Aces High'),\n Row(userId='1138', firstName='Kelly', page='NextSong', level='paid', song='Bananeira'),\n Row(userId='1138', firstName='Kelly', page='NextSong', level='paid', song='The General'),\n Row(userId='1138', firstName='Kelly', page='NextSong', level='paid', song='HÃ\\x83Â©roe De Leyenda (VersiÃ\\x83Â³n Maxi)'),\n Row(userId='1138', firstName='Kelly', page='NextSong', level='paid', song=\"Don't Stop The Music\"),\n Row(userId='1138', firstName='Kelly', page='NextSong', level='paid', song=\"You're The One\"),\n Row(userId='1138', firstName='Kelly', page='NextSong', level='paid', song='Entering White Cecilia'),\n Row(userId='1138', firstName='Kelly', page='NextSong', level='paid', song='Piccolo Cesare'),\n Row(userId='1138', firstName='Kelly', page='Help', level='paid', song=None),\n Row(userId='1138', firstName='Kelly', page='NextSong', level='paid', song='Last Christmas (Album Version)'),\n Row(userId='1138', firstName='Kelly', page='NextSong', level='paid', song='You Shook Me'),\n Row(userId='1138', firstName='Kelly', page='NextSong', level='paid', song='Going Steady'),\n Row(userId='1138', firstName='Kelly', page='NextSong', level='paid', song='My Name Is'),\n Row(userId='1138', firstName='Kelly', page='NextSong', level='paid', song='Undo'),\n Row(userId='1138', firstName='Kelly', page='NextSong', level='paid', song='Secrets'),\n Row(userId='1138', firstName='Kelly', page='NextSong', level='paid', song='Good Times Gone (Album Version)'),\n Row(userId='1138', firstName='Kelly', page='NextSong', level='paid', song='Angelito'),\n Row(userId='1138', firstName='Kelly', page='NextSong', level='paid', song='Batdance ( LP Version )'),\n Row(userId='1138', firstName='Kelly', page='Home', level='paid', song=None),\n Row(userId='1138', firstName='Kelly', page='NextSong', level='paid', song='DiÃ\\x83Â¡kdal'),\n Row(userId='1138', firstName='Kelly', page='NextSong', level='paid', song='Whirring'),\n Row(userId='1138', firstName='Kelly', page='NextSong', level='paid', song='Potholderz (feat. Count Bass D)'),\n Row(userId='1138', firstName='Kelly', page='NextSong', level='paid', song='Seaside'),\n Row(userId='1138', firstName='Kelly', page='NextSong', level='paid', song='Louder Than A Bomb'),\n Row(userId='1138', firstName='Kelly', page='NextSong', level='paid', song='Just Like You'),\n Row(userId='1138', firstName='Kelly', page='NextSong', level='paid', song=\"You're The One\"),\n Row(userId='1138', firstName='Kelly', page='NextSong', level='paid', song='Turn It Again (Album Version)'),\n Row(userId='1138', firstName='Kelly', page='NextSong', level='paid', song='Everywhere I Go'),\n Row(userId='1138', firstName='Kelly', page='NextSong', level='paid', song=\"Easy Skankin'\"),\n Row(userId='1138', firstName='Kelly', page='NextSong', level='paid', song='Roses'),\n Row(userId='1138', firstName='Kelly', page='NextSong', level='paid', song='Killing Me Softly With His Song'),\n Row(userId='1138', firstName='Kelly', page='NextSong', level='paid', song='The Razor (Album Version)'),\n Row(userId='1138', firstName='Kelly', page='NextSong', level='paid', song='Idols and Anchors'),\n Row(userId='1138', firstName='Kelly', page='Downgrade', level='paid', song=None),\n Row(userId='1138', firstName='Kelly', page='Submit Downgrade', level='paid', song=None),\n Row(userId='1138', firstName='Kelly', page='Home', level='free', song=None),\n Row(userId='1138', firstName='Kelly', page='NextSong', level='free', song='Bones'),\n Row(userId='1138', firstName='Kelly', page='Home', level='free', song=None),\n Row(userId='1138', firstName='Kelly', page='NextSong', level='free', song='Grenouilles Mantidactylus (Small Frogs)')]"
     },
     "execution_count": 26,
     "metadata": {},
     "output_type": "execute_result"
    }
   ],
   "source": [
    "user_log.select(['userId','firstName','page','level','song']).where('userId==1138').collect()"
   ],
   "metadata": {
    "collapsed": false,
    "ExecuteTime": {
     "end_time": "2024-05-24T08:23:28.406098677Z",
     "start_time": "2024-05-24T08:23:28.231852656Z"
    }
   },
   "id": "8f17953130ec6713"
  },
  {
   "cell_type": "code",
   "execution_count": 27,
   "outputs": [],
   "source": [
    "flag_downgrade_event= udf(lambda x: 1 if x=='Downgrade' else 0, IntegerType() )\n",
    "user_log_valid = user_log_valid.withColumn('Downgraded',flag_downgrade_event('page'))"
   ],
   "metadata": {
    "collapsed": false,
    "ExecuteTime": {
     "end_time": "2024-05-24T08:23:28.499058647Z",
     "start_time": "2024-05-24T08:23:28.394393158Z"
    }
   },
   "id": "ea2713b9108170ab"
  },
  {
   "cell_type": "code",
   "execution_count": 28,
   "outputs": [
    {
     "data": {
      "text/plain": "Row(artist='Showaddywaddy', auth='Logged In', firstName='Kenneth', gender='M', itemInSession=112, lastName='Matthews', length=232.93342, level='paid', location='Charlotte-Concord-Gastonia, NC-SC', method='PUT', page='NextSong', registration=1509380319284, sessionId=5132, song='Christmas Tears Will Fall', status=200, ts=1513720872284, userAgent='\"Mozilla/5.0 (Windows NT 6.1) AppleWebKit/537.36 (KHTML, like Gecko) Chrome/36.0.1985.125 Safari/537.36\"', userId='1046', hour=23, Downgraded=0)"
     },
     "execution_count": 28,
     "metadata": {},
     "output_type": "execute_result"
    }
   ],
   "source": [
    "user_log_valid.head()"
   ],
   "metadata": {
    "collapsed": false,
    "ExecuteTime": {
     "end_time": "2024-05-24T08:23:28.575966607Z",
     "start_time": "2024-05-24T08:23:28.419371038Z"
    }
   },
   "id": "9f7895122b448642"
  },
  {
   "cell_type": "code",
   "execution_count": 29,
   "outputs": [
    {
     "name": "stdout",
     "output_type": "stream",
     "text": [
      "+--------------------+---------+---------+------+-------------+--------+---------+-----+--------------------+------+----------------+-------------+---------+--------------------+------+-------------+--------------------+------+----+----------+\n",
      "|              artist|     auth|firstName|gender|itemInSession|lastName|   length|level|            location|method|            page| registration|sessionId|                song|status|           ts|           userAgent|userId|hour|Downgraded|\n",
      "+--------------------+---------+---------+------+-------------+--------+---------+-----+--------------------+------+----------------+-------------+---------+--------------------+------+-------------+--------------------+------+----+----------+\n",
      "|FrÃÂ©meaux & Ass...|Logged In|    Kelly|     F|            0|  Newton| 28.96934| free|Houston-The Woodl...|   PUT|        NextSong|1513283366284|     7011|Grenouilles Manti...|   200|1513833144284|Mozilla/5.0 (Wind...|  1138|   6|         0|\n",
      "|                NULL|Logged In|    Kelly|     F|            0|  Newton|     NULL| free|Houston-The Woodl...|   GET|            Home|1513283366284|     6947|                NULL|   200|1513821430284|Mozilla/5.0 (Wind...|  1138|   2|         0|\n",
      "|         The Killers|Logged In|    Kelly|     F|            0|  Newton| 229.0673| free|Houston-The Woodl...|   PUT|        NextSong|1513283366284|     6206|               Bones|   200|1513814880284|Mozilla/5.0 (Wind...|  1138|   1|         0|\n",
      "|                NULL|Logged In|    Kelly|     F|           25|  Newton|     NULL| free|Houston-The Woodl...|   GET|            Home|1513283366284|     5931|                NULL|   200|1513768456284|Mozilla/5.0 (Wind...|  1138|  12|         0|\n",
      "|                NULL|Logged In|    Kelly|     F|           24|  Newton|     NULL| paid|Houston-The Woodl...|   PUT|Submit Downgrade|1513283366284|     5931|                NULL|   307|1513768454284|Mozilla/5.0 (Wind...|  1138|  12|         0|\n",
      "|                NULL|Logged In|    Kelly|     F|           23|  Newton|     NULL| paid|Houston-The Woodl...|   GET|       Downgrade|1513283366284|     5931|                NULL|   200|1513768453284|Mozilla/5.0 (Wind...|  1138|  12|         1|\n",
      "|       Parkway Drive|Logged In|    Kelly|     F|           22|  Newton|228.23138| paid|Houston-The Woodl...|   PUT|        NextSong|1513283366284|     5931|   Idols and Anchors|   200|1513768452284|Mozilla/5.0 (Wind...|  1138|  12|         0|\n",
      "|     Head Automatica|Logged In|    Kelly|     F|           21|  Newton|210.78159| paid|Houston-The Woodl...|   PUT|        NextSong|1513283366284|     5931|The Razor (Album ...|   200|1513768242284|Mozilla/5.0 (Wind...|  1138|  12|         0|\n",
      "|        Blowing Free|Logged In|    Kelly|     F|           20|  Newton|230.94812| paid|Houston-The Woodl...|   PUT|        NextSong|1513283366284|     5931|Killing Me Softly...|   200|1513768012284|Mozilla/5.0 (Wind...|  1138|  12|         0|\n",
      "|             OutKast|Logged In|    Kelly|     F|           19|  Newton|369.31873| paid|Houston-The Woodl...|   PUT|        NextSong|1513283366284|     5931|               Roses|   200|1513767643284|Mozilla/5.0 (Wind...|  1138|  12|         0|\n",
      "|        Gilberto Gil|Logged In|    Kelly|     F|           18|  Newton|230.97424| paid|Houston-The Woodl...|   PUT|        NextSong|1513283366284|     5931|       Easy Skankin'|   200|1513767413284|Mozilla/5.0 (Wind...|  1138|  11|         0|\n",
      "|    Hollywood Undead|Logged In|    Kelly|     F|           17|  Newton|210.52036| paid|Houston-The Woodl...|   PUT|        NextSong|1513283366284|     5931|     Everywhere I Go|   200|1513767203284|Mozilla/5.0 (Wind...|  1138|  11|         0|\n",
      "|Red Hot Chili Pep...|Logged In|    Kelly|     F|           16|  Newton|365.53098| paid|Houston-The Woodl...|   PUT|        NextSong|1513283366284|     5931|Turn It Again (Al...|   200|1513766838284|Mozilla/5.0 (Wind...|  1138|  11|         0|\n",
      "|       Dwight Yoakam|Logged In|    Kelly|     F|           15|  Newton| 239.3073| paid|Houston-The Woodl...|   PUT|        NextSong|1513283366284|     5931|      You're The One|   200|1513766599284|Mozilla/5.0 (Wind...|  1138|  11|         0|\n",
      "|Brian Free & Assu...|Logged In|    Kelly|     F|           14|  Newton|214.69995| paid|Houston-The Woodl...|   PUT|        NextSong|1513283366284|     5931|       Just Like You|   200|1513766385284|Mozilla/5.0 (Wind...|  1138|  11|         0|\n",
      "|                Tiga|Logged In|    Kelly|     F|           13|  Newton|196.46649| paid|Houston-The Woodl...|   PUT|        NextSong|1513283366284|     5931|  Louder Than A Bomb|   200|1513766189284|Mozilla/5.0 (Wind...|  1138|  11|         0|\n",
      "|           The Kooks|Logged In|    Kelly|     F|           12|  Newton| 98.16771| paid|Houston-The Woodl...|   PUT|        NextSong|1513283366284|     5931|             Seaside|   200|1513766091284|Mozilla/5.0 (Wind...|  1138|  11|         0|\n",
      "|             MF Doom|Logged In|    Kelly|     F|           11|  Newton|273.57995| paid|Houston-The Woodl...|   PUT|        NextSong|1513283366284|     5931|Potholderz (feat....|   200|1513765818284|Mozilla/5.0 (Wind...|  1138|  11|         0|\n",
      "|  The Joy Formidable|Logged In|    Kelly|     F|           10|  Newton|163.52608| paid|Houston-The Woodl...|   PUT|        NextSong|1513283366284|     5931|            Whirring|   200|1513765655284|Mozilla/5.0 (Wind...|  1138|  11|         0|\n",
      "|        Szarka Gyula|Logged In|    Kelly|     F|            9|  Newton|207.25506| paid|Houston-The Woodl...|   PUT|        NextSong|1513283366284|     5931|          DiÃÂ¡kdal|   200|1513765448284|Mozilla/5.0 (Wind...|  1138|  11|         0|\n",
      "+--------------------+---------+---------+------+-------------+--------+---------+-----+--------------------+------+----------------+-------------+---------+--------------------+------+-------------+--------------------+------+----+----------+\n"
     ]
    }
   ],
   "source": [
    "user_log_valid.where('userId==1138').sort(desc ('ts')).show()"
   ],
   "metadata": {
    "collapsed": false,
    "ExecuteTime": {
     "end_time": "2024-05-24T08:23:28.803151508Z",
     "start_time": "2024-05-24T08:23:28.563246165Z"
    }
   },
   "id": "a2727483f007a5ed"
  },
  {
   "cell_type": "code",
   "execution_count": 30,
   "outputs": [],
   "source": [
    "windowval = Window.partitionBy('userId').orderBy(desc('ts')).rangeBetween(Window.unboundedPreceding,0)"
   ],
   "metadata": {
    "collapsed": false,
    "ExecuteTime": {
     "end_time": "2024-05-24T08:23:28.865388091Z",
     "start_time": "2024-05-24T08:23:28.803999466Z"
    }
   },
   "id": "6d417892d63dc096"
  },
  {
   "cell_type": "code",
   "execution_count": 31,
   "outputs": [],
   "source": [
    "user_log_valid = user_log_valid.withColumn('phase',Fsum('Downgraded').over(windowval))"
   ],
   "metadata": {
    "collapsed": false,
    "ExecuteTime": {
     "end_time": "2024-05-24T08:23:28.865916817Z",
     "start_time": "2024-05-24T08:23:28.844808840Z"
    }
   },
   "id": "e9a9b9dc281dbf67"
  },
  {
   "cell_type": "code",
   "execution_count": 32,
   "outputs": [
    {
     "name": "stdout",
     "output_type": "stream",
     "text": [
      "+-----+\n",
      "|phase|\n",
      "+-----+\n",
      "|    0|\n",
      "|    0|\n",
      "|    0|\n",
      "|    0|\n",
      "|    0|\n",
      "|    0|\n",
      "|    0|\n",
      "|    0|\n",
      "|    0|\n",
      "|    0|\n",
      "|    0|\n",
      "|    0|\n",
      "|    0|\n",
      "|    0|\n",
      "|    0|\n",
      "|    0|\n",
      "|    0|\n",
      "|    0|\n",
      "|    0|\n",
      "|    0|\n",
      "+-----+\n"
     ]
    }
   ],
   "source": [
    "user_log_valid.select('phase').show()"
   ],
   "metadata": {
    "collapsed": false,
    "ExecuteTime": {
     "end_time": "2024-05-24T08:23:29.169333068Z",
     "start_time": "2024-05-24T08:23:28.845206409Z"
    }
   },
   "id": "d631bd6faa1c619e"
  },
  {
   "cell_type": "code",
   "execution_count": 33,
   "outputs": [
    {
     "data": {
      "text/plain": "[Row(userId='1138', firstName='Kelly', ts=1513833144284, page='NextSong', level='free', phase=0),\n Row(userId='1138', firstName='Kelly', ts=1513821430284, page='Home', level='free', phase=0),\n Row(userId='1138', firstName='Kelly', ts=1513814880284, page='NextSong', level='free', phase=0),\n Row(userId='1138', firstName='Kelly', ts=1513768456284, page='Home', level='free', phase=0),\n Row(userId='1138', firstName='Kelly', ts=1513768454284, page='Submit Downgrade', level='paid', phase=0),\n Row(userId='1138', firstName='Kelly', ts=1513768453284, page='Downgrade', level='paid', phase=1),\n Row(userId='1138', firstName='Kelly', ts=1513768452284, page='NextSong', level='paid', phase=1),\n Row(userId='1138', firstName='Kelly', ts=1513768242284, page='NextSong', level='paid', phase=1),\n Row(userId='1138', firstName='Kelly', ts=1513768012284, page='NextSong', level='paid', phase=1),\n Row(userId='1138', firstName='Kelly', ts=1513767643284, page='NextSong', level='paid', phase=1),\n Row(userId='1138', firstName='Kelly', ts=1513767413284, page='NextSong', level='paid', phase=1),\n Row(userId='1138', firstName='Kelly', ts=1513767203284, page='NextSong', level='paid', phase=1),\n Row(userId='1138', firstName='Kelly', ts=1513766838284, page='NextSong', level='paid', phase=1),\n Row(userId='1138', firstName='Kelly', ts=1513766599284, page='NextSong', level='paid', phase=1),\n Row(userId='1138', firstName='Kelly', ts=1513766385284, page='NextSong', level='paid', phase=1),\n Row(userId='1138', firstName='Kelly', ts=1513766189284, page='NextSong', level='paid', phase=1),\n Row(userId='1138', firstName='Kelly', ts=1513766091284, page='NextSong', level='paid', phase=1),\n Row(userId='1138', firstName='Kelly', ts=1513765818284, page='NextSong', level='paid', phase=1),\n Row(userId='1138', firstName='Kelly', ts=1513765655284, page='NextSong', level='paid', phase=1),\n Row(userId='1138', firstName='Kelly', ts=1513765448284, page='NextSong', level='paid', phase=1),\n Row(userId='1138', firstName='Kelly', ts=1513765075284, page='NextSong', level='paid', phase=1),\n Row(userId='1138', firstName='Kelly', ts=1513765075284, page='Home', level='paid', phase=1),\n Row(userId='1138', firstName='Kelly', ts=1513764782284, page='NextSong', level='paid', phase=1),\n Row(userId='1138', firstName='Kelly', ts=1513764462284, page='NextSong', level='paid', phase=1),\n Row(userId='1138', firstName='Kelly', ts=1513764238284, page='NextSong', level='paid', phase=1),\n Row(userId='1138', firstName='Kelly', ts=1513763890284, page='NextSong', level='paid', phase=1),\n Row(userId='1138', firstName='Kelly', ts=1513763622284, page='NextSong', level='paid', phase=1),\n Row(userId='1138', firstName='Kelly', ts=1513763453284, page='NextSong', level='paid', phase=1),\n Row(userId='1138', firstName='Kelly', ts=1513763195284, page='NextSong', level='paid', phase=1),\n Row(userId='1138', firstName='Kelly', ts=1513738432284, page='NextSong', level='paid', phase=1),\n Row(userId='1138', firstName='Kelly', ts=1513738197284, page='Help', level='paid', phase=1),\n Row(userId='1138', firstName='Kelly', ts=1513738144284, page='NextSong', level='paid', phase=1),\n Row(userId='1138', firstName='Kelly', ts=1513737936284, page='NextSong', level='paid', phase=1),\n Row(userId='1138', firstName='Kelly', ts=1513737728284, page='NextSong', level='paid', phase=1),\n Row(userId='1138', firstName='Kelly', ts=1513737460284, page='NextSong', level='paid', phase=1),\n Row(userId='1138', firstName='Kelly', ts=1513737160284, page='NextSong', level='paid', phase=1),\n Row(userId='1138', firstName='Kelly', ts=1513736915284, page='NextSong', level='paid', phase=1),\n Row(userId='1138', firstName='Kelly', ts=1513736709284, page='NextSong', level='paid', phase=1),\n Row(userId='1138', firstName='Kelly', ts=1513736446284, page='NextSong', level='paid', phase=1),\n Row(userId='1138', firstName='Kelly', ts=1513736237284, page='NextSong', level='paid', phase=1),\n Row(userId='1138', firstName='Kelly', ts=1513736040284, page='NextSong', level='paid', phase=1),\n Row(userId='1138', firstName='Kelly', ts=1513735385284, page='NextSong', level='paid', phase=1),\n Row(userId='1138', firstName='Kelly', ts=1513735174284, page='NextSong', level='paid', phase=1),\n Row(userId='1138', firstName='Kelly', ts=1513734863284, page='NextSong', level='paid', phase=1),\n Row(userId='1138', firstName='Kelly', ts=1513734598284, page='NextSong', level='paid', phase=1),\n Row(userId='1138', firstName='Kelly', ts=1513734289284, page='NextSong', level='paid', phase=1),\n Row(userId='1138', firstName='Kelly', ts=1513733941284, page='NextSong', level='paid', phase=1),\n Row(userId='1138', firstName='Kelly', ts=1513733738284, page='NextSong', level='paid', phase=1),\n Row(userId='1138', firstName='Kelly', ts=1513733456284, page='NextSong', level='paid', phase=1),\n Row(userId='1138', firstName='Kelly', ts=1513733223284, page='NextSong', level='paid', phase=1),\n Row(userId='1138', firstName='Kelly', ts=1513732994284, page='NextSong', level='paid', phase=1),\n Row(userId='1138', firstName='Kelly', ts=1513732770284, page='NextSong', level='paid', phase=1),\n Row(userId='1138', firstName='Kelly', ts=1513732540284, page='NextSong', level='paid', phase=1),\n Row(userId='1138', firstName='Kelly', ts=1513732302284, page='NextSong', level='paid', phase=1),\n Row(userId='1138', firstName='Kelly', ts=1513732160284, page='NextSong', level='paid', phase=1),\n Row(userId='1138', firstName='Kelly', ts=1513731857284, page='NextSong', level='paid', phase=1),\n Row(userId='1138', firstName='Kelly', ts=1513731695284, page='NextSong', level='paid', phase=1),\n Row(userId='1138', firstName='Kelly', ts=1513731435284, page='NextSong', level='paid', phase=1),\n Row(userId='1138', firstName='Kelly', ts=1513731182284, page='NextSong', level='paid', phase=1),\n Row(userId='1138', firstName='Kelly', ts=1513730768284, page='NextSong', level='paid', phase=1),\n Row(userId='1138', firstName='Kelly', ts=1513730518284, page='NextSong', level='paid', phase=1),\n Row(userId='1138', firstName='Kelly', ts=1513730263284, page='NextSong', level='paid', phase=1),\n Row(userId='1138', firstName='Kelly', ts=1513730001284, page='NextSong', level='paid', phase=1),\n Row(userId='1138', firstName='Kelly', ts=1513729783284, page='NextSong', level='paid', phase=1),\n Row(userId='1138', firstName='Kelly', ts=1513729552284, page='NextSong', level='paid', phase=1),\n Row(userId='1138', firstName='Kelly', ts=1513729313284, page='NextSong', level='paid', phase=1),\n Row(userId='1138', firstName='Kelly', ts=1513729066284, page='Home', level='paid', phase=1),\n Row(userId='1138', firstName='Kelly', ts=1513729066284, page='NextSong', level='paid', phase=1)]"
     },
     "execution_count": 33,
     "metadata": {},
     "output_type": "execute_result"
    }
   ],
   "source": [
    "user_log_valid.select(['userId','firstName','ts','page','level','phase']).where('userId==1138').collect()"
   ],
   "metadata": {
    "collapsed": false,
    "ExecuteTime": {
     "end_time": "2024-05-24T08:23:29.403312200Z",
     "start_time": "2024-05-24T08:23:29.170245568Z"
    }
   },
   "id": "3d42d2f36172c1a9"
  },
  {
   "cell_type": "code",
   "execution_count": 34,
   "outputs": [
    {
     "name": "stdout",
     "output_type": "stream",
     "text": [
      "+-----+\n",
      "| page|\n",
      "+-----+\n",
      "| Home|\n",
      "|About|\n",
      "|Login|\n",
      "| Help|\n",
      "+-----+\n"
     ]
    }
   ],
   "source": [
    "user_log.select('page').where('userId==\"\"').drop_duplicates().show()"
   ],
   "metadata": {
    "collapsed": false,
    "ExecuteTime": {
     "end_time": "2024-05-24T08:23:29.560583125Z",
     "start_time": "2024-05-24T08:23:29.402625385Z"
    }
   },
   "id": "19f8efd5308db750"
  },
  {
   "cell_type": "code",
   "execution_count": 35,
   "outputs": [
    {
     "data": {
      "text/plain": "462"
     },
     "execution_count": 35,
     "metadata": {},
     "output_type": "execute_result"
    }
   ],
   "source": [
    "user_log.dropDuplicates(['userId']).filter('gender==\"F\"').count()"
   ],
   "metadata": {
    "collapsed": false,
    "ExecuteTime": {
     "end_time": "2024-05-24T08:23:29.861441500Z",
     "start_time": "2024-05-24T08:23:29.560445325Z"
    }
   },
   "id": "6bc5ea7ba73b2fe5"
  },
  {
   "cell_type": "code",
   "execution_count": 36,
   "outputs": [
    {
     "name": "stdout",
     "output_type": "stream",
     "text": [
      "+--------------------+-----+\n",
      "|              artist|count|\n",
      "+--------------------+-----+\n",
      "|                NULL| 1653|\n",
      "|            Coldplay|   83|\n",
      "|       Kings Of Leon|   69|\n",
      "|Florence + The Ma...|   52|\n",
      "|            BjÃÂ¶rk|   46|\n",
      "|       Dwight Yoakam|   45|\n",
      "|       Justin Bieber|   43|\n",
      "|      The Black Keys|   40|\n",
      "|         OneRepublic|   37|\n",
      "|        Jack Johnson|   36|\n",
      "|                Muse|   36|\n",
      "|           Radiohead|   31|\n",
      "|        Taylor Swift|   29|\n",
      "|          Lily Allen|   28|\n",
      "|Barry Tuckwell/Ac...|   28|\n",
      "|               Train|   28|\n",
      "|           Daft Punk|   27|\n",
      "|          Nickelback|   27|\n",
      "|           Metallica|   27|\n",
      "|          Kanye West|   26|\n",
      "+--------------------+-----+\n"
     ]
    }
   ],
   "source": [
    "user_log.select(['artist']).groupby(['artist']).count().sort(desc('count')).show()"
   ],
   "metadata": {
    "collapsed": false,
    "ExecuteTime": {
     "end_time": "2024-05-24T08:23:30.097411916Z",
     "start_time": "2024-05-24T08:23:29.831152631Z"
    }
   },
   "id": "e0ca7257abbc84c"
  },
  {
   "cell_type": "code",
   "execution_count": 56,
   "outputs": [
    {
     "name": "stdout",
     "output_type": "stream",
     "text": [
      "+---------------+---------+---------+------+-------------+--------+---------+-----+--------------------+------+--------+-------------+---------+-------+------+-------------+--------------------+------+----+----------+-----+----+---+----+\n",
      "|         artist|     auth|firstName|gender|itemInSession|lastName|   length|level|            location|method|    page| registration|sessionId|   song|status|           ts|           userAgent|userId|hour|Downgraded|phase|home|num|next|\n",
      "+---------------+---------+---------+------+-------------+--------+---------+-----+--------------------+------+--------+-------------+---------+-------+------+-------------+--------------------+------+----+----------+-----+----+---+----+\n",
      "|The Get Up Kids|Logged In| Veronica|     F|            0| Buckley|178.59873| free|Detroit-Warren-De...|   PUT|NextSong|1512966806284|     6676|Overdue|   200|1513828388284|\"Mozilla/5.0 (Mac...|    10|   4|         0|    0|   0|  0|NULL|\n",
      "|    OneRepublic|Logged In| Veronica|     F|            0| Buckley|224.67873| free|Detroit-Warren-De...|   PUT|NextSong|1512966806284|        9|Secrets|   200|1513790894284|\"Mozilla/5.0 (Mac...|    10|  18|         0|    0|   0|  0|NULL|\n",
      "|           NULL|Logged In|   Elijah|     M|            0|   Moore|     NULL| free|New Orleans-Metai...|   GET|    Home|1488073913284|     6316|   NULL|   200|1513839673284|\"Mozilla/5.0 (Win...|   100|   8|         0|    0|   1|  1|NULL|\n",
      "|         Ayabie|Logged In|   Elijah|     M|            4|   Moore|244.71465| free|New Orleans-Metai...|   PUT|NextSong|1488073913284|     6040|   0010|   200|1513776308284|\"Mozilla/5.0 (Win...|   100|  14|         0|    0|   0|  1|NULL|\n",
      "|           NULL|Logged In|   Elijah|     M|            3|   Moore|     NULL| free|New Orleans-Metai...|   GET|    Home|1488073913284|     6040|   NULL|   200|1513776194284|\"Mozilla/5.0 (Win...|   100|  14|         0|    0|   1|  2|NULL|\n",
      "+---------------+---------+---------+------+-------------+--------+---------+-----+--------------------+------+--------+-------------+---------+-------+------+-------------+--------------------+------+----+----------+-----+----+---+----+\n"
     ]
    }
   ],
   "source": [
    "\n",
    "home_have = udf(lambda x: 1 if x==\"Home\" else 0,IntegerType())\n",
    "user_log_valid = user_log_valid.withColumn('home',home_have('page'))\n",
    "user_log_valid.show(5)"
   ],
   "metadata": {
    "collapsed": false,
    "ExecuteTime": {
     "end_time": "2024-05-24T09:07:31.664284460Z",
     "start_time": "2024-05-24T09:07:31.256853947Z"
    }
   },
   "id": "3e1b93cb7fb83113"
  },
  {
   "cell_type": "code",
   "execution_count": 64,
   "outputs": [
    {
     "name": "stdout",
     "output_type": "stream",
     "text": [
      "+---------------+---------+---------+------+-------------+--------+---------+-----+--------------------+------+--------+-------------+---------+--------------------+------+-------------+--------------------+------+----+----------+-----+----+---+----+---------+----+\n",
      "|         artist|     auth|firstName|gender|itemInSession|lastName|   length|level|            location|method|    page| registration|sessionId|                song|status|           ts|           userAgent|userId|hour|Downgraded|phase|home|num|next|home_next|nums|\n",
      "+---------------+---------+---------+------+-------------+--------+---------+-----+--------------------+------+--------+-------------+---------+--------------------+------+-------------+--------------------+------+----+----------+-----+----+---+----+---------+----+\n",
      "|The Get Up Kids|Logged In| Veronica|     F|            0| Buckley|178.59873| free|Detroit-Warren-De...|   PUT|NextSong|1512966806284|     6676|             Overdue|   200|1513828388284|\"Mozilla/5.0 (Mac...|    10|   4|         0|    0|   0|  1|   1|        1|   1|\n",
      "|    OneRepublic|Logged In| Veronica|     F|            0| Buckley|224.67873| free|Detroit-Warren-De...|   PUT|NextSong|1512966806284|        9|             Secrets|   200|1513790894284|\"Mozilla/5.0 (Mac...|    10|  18|         0|    0|   0|  2|   1|        1|   2|\n",
      "|           NULL|Logged In|   Elijah|     M|            0|   Moore|     NULL| free|New Orleans-Metai...|   GET|    Home|1488073913284|     6316|                NULL|   200|1513839673284|\"Mozilla/5.0 (Win...|   100|   8|         0|    0|   1|  1|   0|        1|   1|\n",
      "|         Ayabie|Logged In|   Elijah|     M|            4|   Moore|244.71465| free|New Orleans-Metai...|   PUT|NextSong|1488073913284|     6040|                0010|   200|1513776308284|\"Mozilla/5.0 (Win...|   100|  14|         0|    0|   0|  2|   1|        1|   2|\n",
      "|           NULL|Logged In|   Elijah|     M|            3|   Moore|     NULL| free|New Orleans-Metai...|   GET|    Home|1488073913284|     6040|                NULL|   200|1513776194284|\"Mozilla/5.0 (Win...|   100|  14|         0|    0|   1|  3|   0|        1|   3|\n",
      "|     Velour 100|Logged In|   Elijah|     M|            2|   Moore|202.29179| free|New Orleans-Metai...|   PUT|NextSong|1488073913284|     6040|Clouds (Of Color ...|   200|1513775710284|\"Mozilla/5.0 (Win...|   100|  14|         0|    0|   0|  4|   1|        1|   4|\n",
      "|  Crystal Gayle|Logged In|   Elijah|     M|            1|   Moore|154.74893| free|New Orleans-Metai...|   PUT|NextSong|1488073913284|     6040|Don't It Make My ...|   200|1513775556284|\"Mozilla/5.0 (Win...|   100|  14|         0|    0|   0|  5|   1|        1|   5|\n",
      "|           NULL|Logged In|   Elijah|     M|            0|   Moore|     NULL| free|New Orleans-Metai...|   GET|    Home|1488073913284|     6040|                NULL|   200|1513775431284|\"Mozilla/5.0 (Win...|   100|  14|         0|    0|   1|  6|   0|        1|   6|\n",
      "|    OneRepublic|Logged In|   Elijah|     M|            1|   Moore|224.67873| free|New Orleans-Metai...|   PUT|NextSong|1488073913284|     5762|             Secrets|   200|1513750442284|\"Mozilla/5.0 (Win...|   100|   7|         0|    0|   0|  7|   1|        1|   7|\n",
      "|     Josh Rouse|Logged In|   Elijah|     M|            0|   Moore|228.93669| free|New Orleans-Metai...|   PUT|NextSong|1488073913284|     5762|                1972|   200|1513750214284|\"Mozilla/5.0 (Win...|   100|   7|         0|    0|   0|  8|   1|        1|   8|\n",
      "+---------------+---------+---------+------+-------------+--------+---------+-----+--------------------+------+--------+-------------+---------+--------------------+------+-------------+--------------------+------+----+----------+-----+----+---+----+---------+----+\n"
     ]
    }
   ],
   "source": [
    "next_have = udf(lambda x: 1 if x==\"NextSong\" else 0, IntegerType())\n",
    "user_log_valid = user_log_valid.withColumn('next',next_have('page'))\n",
    "user_log_valid.show(10)"
   ],
   "metadata": {
    "collapsed": false,
    "ExecuteTime": {
     "end_time": "2024-05-24T09:16:54.136938694Z",
     "start_time": "2024-05-24T09:16:53.699278217Z"
    }
   },
   "id": "6f0bd90062075edf"
  },
  {
   "cell_type": "code",
   "execution_count": 59,
   "outputs": [
    {
     "name": "stdout",
     "output_type": "stream",
     "text": [
      "+---------------+---------+---------+------+-------------+--------+---------+-----+--------------------+------+--------+-------------+---------+-------+------+-------------+--------------------+------+----+----------+-----+----+---+----+---------+\n",
      "|         artist|     auth|firstName|gender|itemInSession|lastName|   length|level|            location|method|    page| registration|sessionId|   song|status|           ts|           userAgent|userId|hour|Downgraded|phase|home|num|next|home_next|\n",
      "+---------------+---------+---------+------+-------------+--------+---------+-----+--------------------+------+--------+-------------+---------+-------+------+-------------+--------------------+------+----+----------+-----+----+---+----+---------+\n",
      "|The Get Up Kids|Logged In| Veronica|     F|            0| Buckley|178.59873| free|Detroit-Warren-De...|   PUT|NextSong|1512966806284|     6676|Overdue|   200|1513828388284|\"Mozilla/5.0 (Mac...|    10|   4|         0|    0|   0|  0|   1|        1|\n",
      "|    OneRepublic|Logged In| Veronica|     F|            0| Buckley|224.67873| free|Detroit-Warren-De...|   PUT|NextSong|1512966806284|        9|Secrets|   200|1513790894284|\"Mozilla/5.0 (Mac...|    10|  18|         0|    0|   0|  0|   1|        1|\n",
      "|           NULL|Logged In|   Elijah|     M|            0|   Moore|     NULL| free|New Orleans-Metai...|   GET|    Home|1488073913284|     6316|   NULL|   200|1513839673284|\"Mozilla/5.0 (Win...|   100|   8|         0|    0|   1|  1|   0|        1|\n",
      "|         Ayabie|Logged In|   Elijah|     M|            4|   Moore|244.71465| free|New Orleans-Metai...|   PUT|NextSong|1488073913284|     6040|   0010|   200|1513776308284|\"Mozilla/5.0 (Win...|   100|  14|         0|    0|   0|  1|   1|        1|\n",
      "|           NULL|Logged In|   Elijah|     M|            3|   Moore|     NULL| free|New Orleans-Metai...|   GET|    Home|1488073913284|     6040|   NULL|   200|1513776194284|\"Mozilla/5.0 (Win...|   100|  14|         0|    0|   1|  2|   0|        1|\n",
      "+---------------+---------+---------+------+-------------+--------+---------+-----+--------------------+------+--------+-------------+---------+-------+------+-------------+--------------------+------+----+----------+-----+----+---+----+---------+\n"
     ]
    }
   ],
   "source": [
    "home_next_fn= udf(lambda x,y : x+y, IntegerType())\n",
    "user_log_valid= user_log_valid.withColumn(\"home_next\",home_next_fn(\"home\",'next'))\n",
    "user_log_valid.show(5)"
   ],
   "metadata": {
    "collapsed": false,
    "ExecuteTime": {
     "end_time": "2024-05-24T09:13:38.584624264Z",
     "start_time": "2024-05-24T09:13:38.124246294Z"
    }
   },
   "id": "ec76af4e3f67bfe0"
  },
  {
   "cell_type": "code",
   "execution_count": 62,
   "outputs": [],
   "source": [
    "windowfun = Window.partitionBy('userId').orderBy(desc('ts')).rangeBetween(Window.unboundedPreceding,0)\n",
    "user_log_valid=user_log_valid.withColumn('nums',Fsum(\"home_next\").over(windowfun))\n",
    "# user_log_valid.select(['num',]).agg({'num':'avg'}).show()"
   ],
   "metadata": {
    "collapsed": false,
    "ExecuteTime": {
     "end_time": "2024-05-24T09:16:29.700647589Z",
     "start_time": "2024-05-24T09:16:29.660103089Z"
    }
   },
   "id": "9f6426a59c854479"
  },
  {
   "cell_type": "code",
   "execution_count": 63,
   "outputs": [
    {
     "name": "stdout",
     "output_type": "stream",
     "text": [
      "+------------------+\n",
      "|         avg(nums)|\n",
      "+------------------+\n",
      "|30.732201986754966|\n",
      "+------------------+\n"
     ]
    }
   ],
   "source": [
    "user_log_valid.select(['nums']).agg({'nums':'avg'}).show()"
   ],
   "metadata": {
    "collapsed": false,
    "ExecuteTime": {
     "end_time": "2024-05-24T09:16:31.744258451Z",
     "start_time": "2024-05-24T09:16:31.534773977Z"
    }
   },
   "id": "9e8c1646c3c3f17e"
  },
  {
   "cell_type": "code",
   "execution_count": null,
   "outputs": [],
   "source": [
    "user_log.select(['page','userId','song']).where('page==\"Home\"').groupby(['userId']).count().agg({'count':'avg'}).show()"
   ],
   "metadata": {
    "collapsed": false,
    "ExecuteTime": {
     "start_time": "2024-05-24T08:23:30.784699301Z"
    }
   },
   "id": "9e3675e83d3e8e5d"
  },
  {
   "cell_type": "code",
   "execution_count": null,
   "outputs": [],
   "source": [
    "user_log.select('song','artist','userId','page').where('page==\"Home\"').show()"
   ],
   "metadata": {
    "collapsed": false,
    "ExecuteTime": {
     "start_time": "2024-05-24T08:23:30.786488012Z"
    }
   },
   "id": "e8925d5e96a6e718"
  },
  {
   "cell_type": "code",
   "execution_count": null,
   "outputs": [],
   "source": [
    "between_home=user_log_valid.where('page!=\"Home\"').where('song!=\"NULL\"')"
   ],
   "metadata": {
    "collapsed": false,
    "ExecuteTime": {
     "start_time": "2024-05-24T08:23:30.788182836Z"
    }
   },
   "id": "23855618c3b43162"
  },
  {
   "cell_type": "code",
   "execution_count": null,
   "outputs": [],
   "source": [
    "between_home.groupBy(['userId']).count().agg({'count':'avg'}).show()"
   ],
   "metadata": {
    "collapsed": false,
    "ExecuteTime": {
     "start_time": "2024-05-24T08:23:30.821578891Z"
    }
   },
   "id": "a29552f0fc0a15ff"
  },
  {
   "cell_type": "code",
   "execution_count": null,
   "outputs": [],
   "source": [],
   "metadata": {
    "collapsed": false,
    "ExecuteTime": {
     "start_time": "2024-05-24T08:23:30.821811069Z"
    }
   },
   "id": "995ddbeba08469a1"
  }
 ],
 "metadata": {
  "kernelspec": {
   "display_name": "Python 3",
   "language": "python",
   "name": "python3"
  },
  "language_info": {
   "codemirror_mode": {
    "name": "ipython",
    "version": 2
   },
   "file_extension": ".py",
   "mimetype": "text/x-python",
   "name": "python",
   "nbconvert_exporter": "python",
   "pygments_lexer": "ipython2",
   "version": "2.7.6"
  }
 },
 "nbformat": 4,
 "nbformat_minor": 5
}
