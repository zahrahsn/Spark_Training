{
 "cells": [
  {
   "cell_type": "code",
   "execution_count": 1,
   "outputs": [],
   "source": [
    "from pyspark.sql import SparkSession\n",
    "from pyspark.sql.functions import udf\n",
    "from pyspark.sql.types import StringType\n",
    "from pyspark.sql.types import IntegerType\n",
    "from pyspark.sql.functions import desc\n",
    "from pyspark.sql.functions import asc\n",
    "from pyspark.sql.functions import sum as Fsum\n",
    "\n",
    "import datetime\n",
    "\n",
    "import numpy as np\n",
    "import pandas as pd\n",
    "%matplotlib inline\n",
    "import matplotlib.pyplot as plt"
   ],
   "metadata": {
    "collapsed": false,
    "ExecuteTime": {
     "end_time": "2024-05-24T10:04:49.057577564Z",
     "start_time": "2024-05-24T10:04:48.612524080Z"
    }
   },
   "id": "cb277df0076442e"
  },
  {
   "cell_type": "code",
   "execution_count": 2,
   "outputs": [
    {
     "name": "stderr",
     "output_type": "stream",
     "text": [
      "24/05/24 12:07:07 WARN Utils: Your hostname, zahra-laptop resolves to a loopback address: 127.0.1.1; using 192.168.178.28 instead (on interface wlo1)\n",
      "24/05/24 12:07:07 WARN Utils: Set SPARK_LOCAL_IP if you need to bind to another address\n",
      "Setting default log level to \"WARN\".\n",
      "To adjust logging level use sc.setLogLevel(newLevel). For SparkR, use setLogLevel(newLevel).\n",
      "24/05/24 12:07:07 WARN NativeCodeLoader: Unable to load native-hadoop library for your platform... using builtin-java classes where applicable\n",
      "24/05/24 12:07:07 WARN Utils: Service 'SparkUI' could not bind on port 4040. Attempting port 4041.\n"
     ]
    }
   ],
   "source": [
    "spark = SparkSession \\\n",
    "    .builder \\\n",
    "    .appName(\"Data Wrangling with Spark Sql.\") \\\n",
    "    .getOrCreate()"
   ],
   "metadata": {
    "collapsed": false,
    "ExecuteTime": {
     "end_time": "2024-05-24T10:07:08.050453410Z",
     "start_time": "2024-05-24T10:07:06.286372642Z"
    }
   },
   "id": "6b4b7b6250b3d61f"
  },
  {
   "cell_type": "code",
   "execution_count": 3,
   "outputs": [],
   "source": [
    "path= 'data/sparkify_log_small.json'\n",
    "user_log = spark.read.json(path)"
   ],
   "metadata": {
    "collapsed": false,
    "ExecuteTime": {
     "end_time": "2024-05-24T10:08:21.416268319Z",
     "start_time": "2024-05-24T10:08:19.277577794Z"
    }
   },
   "id": "4c3362bc54e15710"
  },
  {
   "cell_type": "code",
   "execution_count": 4,
   "outputs": [
    {
     "data": {
      "text/plain": "[Row(artist='Showaddywaddy', auth='Logged In', firstName='Kenneth', gender='M', itemInSession=112, lastName='Matthews', length=232.93342, level='paid', location='Charlotte-Concord-Gastonia, NC-SC', method='PUT', page='NextSong', registration=1509380319284, sessionId=5132, song='Christmas Tears Will Fall', status=200, ts=1513720872284, userAgent='\"Mozilla/5.0 (Windows NT 6.1) AppleWebKit/537.36 (KHTML, like Gecko) Chrome/36.0.1985.125 Safari/537.36\"', userId='1046')]"
     },
     "execution_count": 4,
     "metadata": {},
     "output_type": "execute_result"
    }
   ],
   "source": [
    "user_log.take(1)"
   ],
   "metadata": {
    "collapsed": false,
    "ExecuteTime": {
     "end_time": "2024-05-24T10:08:41.338219989Z",
     "start_time": "2024-05-24T10:08:41.166062596Z"
    }
   },
   "id": "af183d4e1feaa820"
  },
  {
   "cell_type": "code",
   "execution_count": 5,
   "outputs": [
    {
     "name": "stdout",
     "output_type": "stream",
     "text": [
      "root\n",
      " |-- artist: string (nullable = true)\n",
      " |-- auth: string (nullable = true)\n",
      " |-- firstName: string (nullable = true)\n",
      " |-- gender: string (nullable = true)\n",
      " |-- itemInSession: long (nullable = true)\n",
      " |-- lastName: string (nullable = true)\n",
      " |-- length: double (nullable = true)\n",
      " |-- level: string (nullable = true)\n",
      " |-- location: string (nullable = true)\n",
      " |-- method: string (nullable = true)\n",
      " |-- page: string (nullable = true)\n",
      " |-- registration: long (nullable = true)\n",
      " |-- sessionId: long (nullable = true)\n",
      " |-- song: string (nullable = true)\n",
      " |-- status: long (nullable = true)\n",
      " |-- ts: long (nullable = true)\n",
      " |-- userAgent: string (nullable = true)\n",
      " |-- userId: string (nullable = true)\n"
     ]
    }
   ],
   "source": [
    "user_log.printSchema()"
   ],
   "metadata": {
    "collapsed": false,
    "ExecuteTime": {
     "end_time": "2024-05-24T10:09:02.777358278Z",
     "start_time": "2024-05-24T10:09:02.732812106Z"
    }
   },
   "id": "a75685a3eb0e7e15"
  },
  {
   "cell_type": "code",
   "execution_count": 7,
   "outputs": [],
   "source": [
    "user_log.createOrReplaceTempView(\"user_log_table\")"
   ],
   "metadata": {
    "collapsed": false,
    "ExecuteTime": {
     "end_time": "2024-05-24T10:11:36.188764872Z",
     "start_time": "2024-05-24T10:11:36.141265877Z"
    }
   },
   "id": "9f829b061442007d"
  },
  {
   "cell_type": "code",
   "execution_count": 9,
   "outputs": [
    {
     "name": "stdout",
     "output_type": "stream",
     "text": [
      "+-------------+---------+---------+------+-------------+--------+---------+-----+--------------------+------+--------+-------------+---------+--------------------+------+-------------+--------------------+------+\n",
      "|       artist|     auth|firstName|gender|itemInSession|lastName|   length|level|            location|method|    page| registration|sessionId|                song|status|           ts|           userAgent|userId|\n",
      "+-------------+---------+---------+------+-------------+--------+---------+-----+--------------------+------+--------+-------------+---------+--------------------+------+-------------+--------------------+------+\n",
      "|Showaddywaddy|Logged In|  Kenneth|     M|          112|Matthews|232.93342| paid|Charlotte-Concord...|   PUT|NextSong|1509380319284|     5132|Christmas Tears W...|   200|1513720872284|\"Mozilla/5.0 (Win...|  1046|\n",
      "|   Lily Allen|Logged In|Elizabeth|     F|            7|   Chase|195.23873| free|Shreveport-Bossie...|   PUT|NextSong|1512718541284|     5027|       Cheryl Tweedy|   200|1513720878284|\"Mozilla/5.0 (Win...|  1000|\n",
      "+-------------+---------+---------+------+-------------+--------+---------+-----+--------------------+------+--------+-------------+---------+--------------------+------+-------------+--------------------+------+\n"
     ]
    }
   ],
   "source": [
    "spark.sql('select * from user_log_table').show()"
   ],
   "metadata": {
    "collapsed": false,
    "ExecuteTime": {
     "end_time": "2024-05-24T10:13:17.100860593Z",
     "start_time": "2024-05-24T10:13:16.973060134Z"
    }
   },
   "id": "9e91dc40c60eb40e"
  },
  {
   "cell_type": "code",
   "execution_count": 10,
   "outputs": [
    {
     "name": "stdout",
     "output_type": "stream",
     "text": [
      "+-------+-----------------+\n",
      "|summary|           artist|\n",
      "+-------+-----------------+\n",
      "|  count|             8347|\n",
      "|   mean|            461.0|\n",
      "| stddev|            300.0|\n",
      "|    min|              !!!|\n",
      "|    max|ÃÂlafur Arnalds|\n",
      "+-------+-----------------+\n"
     ]
    }
   ],
   "source": [
    "# user_log.describe('artist').show()"
   ],
   "metadata": {
    "collapsed": false,
    "ExecuteTime": {
     "end_time": "2024-05-24T10:14:42.489767501Z",
     "start_time": "2024-05-24T10:14:41.868193553Z"
    }
   },
   "id": "5d0fd6bff2f84ddf"
  },
  {
   "cell_type": "code",
   "execution_count": 11,
   "outputs": [
    {
     "name": "stdout",
     "output_type": "stream",
     "text": [
      "+-------------+---------+---------+------+-------------+--------+---------+-----+--------------------+------+--------+-------------+---------+--------------------+------+-------------+--------------------+------+\n",
      "|       artist|     auth|firstName|gender|itemInSession|lastName|   length|level|            location|method|    page| registration|sessionId|                song|status|           ts|           userAgent|userId|\n",
      "+-------------+---------+---------+------+-------------+--------+---------+-----+--------------------+------+--------+-------------+---------+--------------------+------+-------------+--------------------+------+\n",
      "|Showaddywaddy|Logged In|  Kenneth|     M|          112|Matthews|232.93342| paid|Charlotte-Concord...|   PUT|NextSong|1509380319284|     5132|Christmas Tears W...|   200|1513720872284|\"Mozilla/5.0 (Win...|  1046|\n",
      "|   Lily Allen|Logged In|Elizabeth|     F|            7|   Chase|195.23873| free|Shreveport-Bossie...|   PUT|NextSong|1512718541284|     5027|       Cheryl Tweedy|   200|1513720878284|\"Mozilla/5.0 (Win...|  1000|\n",
      "+-------------+---------+---------+------+-------------+--------+---------+-----+--------------------+------+--------+-------------+---------+--------------------+------+-------------+--------------------+------+\n"
     ]
    }
   ],
   "source": [
    "spark.sql('''\n",
    "        select *\n",
    "            from user_log_table\n",
    "            limit 2\n",
    "            \n",
    "''').show()"
   ],
   "metadata": {
    "collapsed": false,
    "ExecuteTime": {
     "end_time": "2024-05-24T10:17:35.351150667Z",
     "start_time": "2024-05-24T10:17:35.261049654Z"
    }
   },
   "id": "788f06aba785990c"
  },
  {
   "cell_type": "code",
   "execution_count": 14,
   "outputs": [
    {
     "name": "stdout",
     "output_type": "stream",
     "text": [
      "+--------+\n",
      "|count(1)|\n",
      "+--------+\n",
      "|   10000|\n",
      "+--------+\n"
     ]
    }
   ],
   "source": [
    "spark.sql(\n",
    "    '''\n",
    "    select count(*)\n",
    "    from user_log_table\n",
    "    '''\n",
    ").show()"
   ],
   "metadata": {
    "collapsed": false,
    "ExecuteTime": {
     "end_time": "2024-05-24T10:20:22.866037663Z",
     "start_time": "2024-05-24T10:20:22.750750432Z"
    }
   },
   "id": "f6a8318c921d104"
  },
  {
   "cell_type": "code",
   "execution_count": 17,
   "outputs": [
    {
     "data": {
      "text/plain": "[Row(artist='Showaddywaddy', song='Christmas Tears Will Fall'),\n Row(artist='Darius Rucker', song='Be Wary Of A Woman'),\n Row(artist='Public Enemy', song='Public Enemy No.1'),\n Row(artist='Jag Panzer', song='Reign Of The Tyrants'),\n Row(artist='Boyzone', song='Father And Son'),\n Row(artist='Hollywood Undead', song='No. 5'),\n Row(artist='Jimmy Eat World', song='Seventeen'),\n Row(artist=None, song=None),\n Row(artist='Wilco', song='War on war'),\n Row(artist='Fountains Of Wayne', song='Killermont Street'),\n Row(artist='Miike Snow', song='Black & Blue'),\n Row(artist=None, song=None),\n Row(artist=None, song=None),\n Row(artist='Yeah Yeah Yeahs', song='Heads Will Roll'),\n Row(artist='Linkin Park', song='Bleed It Out [Live At Milton Keynes]'),\n Row(artist='Coldplay', song='Clocks'),\n Row(artist='Jill Scott', song='Love Rain'),\n Row(artist='Glassjaw', song=\"Ry Ry's Song (Album Version)\"),\n Row(artist='Michael Cretu', song='The Invisible Man'),\n Row(artist='Lonnie Gordon', song='Catch You Baby (Steve Pitron & Max Sanna Radio Edit)'),\n Row(artist='Vangelis', song='Ask The Mountains'),\n Row(artist='Linkin Park', song='Given Up (Album Version)'),\n Row(artist='Miguel Calo', song='El Cuatrero'),\n Row(artist='Boys Like Girls', song='Hero/Heroine'),\n Row(artist='RMB / Talla 2XLC', song='Spring'),\n Row(artist='ATB', song='Rising Moon'),\n Row(artist='Gary Allan', song='Tough Little Boys'),\n Row(artist='Marc Lavoine;Catherine Ringer', song=\"Qu'Est-Ce Que T'Es Belle\"),\n Row(artist='OneRepublic', song='Secrets'),\n Row(artist='The Killers', song='Under The Gun')]"
     },
     "execution_count": 17,
     "metadata": {},
     "output_type": "execute_result"
    }
   ],
   "source": [
    "spark.sql('''\n",
    "select artist, song\n",
    "from user_log_table\n",
    "where userId==1046\n",
    "''').collect()"
   ],
   "metadata": {
    "collapsed": false,
    "ExecuteTime": {
     "end_time": "2024-05-24T10:23:04.417897153Z",
     "start_time": "2024-05-24T10:23:04.319305658Z"
    }
   },
   "id": "ae185563dd1484fc"
  },
  {
   "cell_type": "code",
   "execution_count": null,
   "outputs": [],
   "source": [],
   "metadata": {
    "collapsed": false
   },
   "id": "c4a89e86bf21194e"
  }
 ],
 "metadata": {
  "kernelspec": {
   "display_name": "Python 3",
   "language": "python",
   "name": "python3"
  },
  "language_info": {
   "codemirror_mode": {
    "name": "ipython",
    "version": 2
   },
   "file_extension": ".py",
   "mimetype": "text/x-python",
   "name": "python",
   "nbconvert_exporter": "python",
   "pygments_lexer": "ipython2",
   "version": "2.7.6"
  }
 },
 "nbformat": 4,
 "nbformat_minor": 5
}
